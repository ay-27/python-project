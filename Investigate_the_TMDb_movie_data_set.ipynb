{
 "cells": [
  {
   "cell_type": "markdown",
   "metadata": {
    "id": "hLxrTaWac25I"
   },
   "source": [
    "\n",
    "# Project: Investigate the movie data set - [TMDb movie data]\n",
    "\n",
    "\n",
    "## Table of Contents\n",
    "<ul>\n",
    "<li><a href=\"#intro\">Introduction</a></li>\n",
    "<li><a href=\"#wrangling\">Data Wrangling</a></li>\n",
    "<li><a href=\"#eda\">Exploratory Data Analysis</a></li>\n",
    "<li><a href=\"#conclusions\">Conclusions</a></li>\n",
    "</ul>"
   ]
  },
  {
   "cell_type": "markdown",
   "metadata": {
    "id": "DtQAkoCGc25k"
   },
   "source": [
    "<a id=\"intro\"></a>\n",
    "# Introduction\n",
    "This dataset contains roughly 10,000 movies The Movie Database (TMDb)\n",
    "\n",
    "### Research Question 1: Is there a relation between movie popularity and budget spent?\n",
    "### Research Question 2: Is there a relation between movie runtime and popularity?\n",
    "\n",
    "\n",
    "### Column description:\n",
    "id: unique identifying number for each movie\n",
    "\n",
    "imdb_id: unique identifying number for each movie on IMDB website\n",
    "\n",
    "popularity: popularity for each movie in the data set\n",
    "\n",
    "budget: Budget spent on a movie's production\n",
    "\n",
    "revenue: Revenue gathered from a movie after release\n",
    "\n",
    "original_title: Title of the movie\n",
    "\n",
    "cast: Cast of actors in the movie\n",
    "\n",
    "homepage: Webpage link\n",
    "\n",
    "director: Director of the movie\n",
    "\n",
    "tagline: Tagline for the movie\n",
    "\n",
    "keywords: Keywords for the movie\n",
    "\n",
    "overview: Overview for the movie\n",
    "\n",
    "runtime: Run times for movie\n",
    "\n",
    "genres: Genres of movies\n",
    "\n",
    "production_companies: Companie that created the movie\n",
    "\n",
    "release_date: Release date of the movie (m/d/y)\n",
    "\n",
    "vote_count: Vote count of the movie\n",
    "\n",
    "vote_average: Vote average of the movie\n",
    "\n",
    "release_year: Release year of a movie\n",
    "\n",
    "budget_adj: Budget of the movie in terms of 2010 dollars, accounting for inflation over time.\n",
    "\n",
    "revenue_adj: Revenue of the movie in terms of 2010 dollars, accounting for inflation over time."
   ]
  },
  {
   "cell_type": "markdown",
   "metadata": {
    "id": "dx1fMalqc25n"
   },
   "source": [
    "In the cell below, potentially necessary packages were imported in order to carry out this analysis."
   ]
  },
  {
   "cell_type": "code",
   "execution_count": 3,
   "metadata": {
    "id": "WAE6sIFyc25q"
   },
   "outputs": [],
   "source": [
    "#In the cell below, potentially necessary packages were imported in order to carry out this analysis.\n",
    "import numpy as np\n",
    "import pandas as pd\n",
    "import matplotlib.pyplot as plt\n",
    "import seaborn as sns\n",
    "% matplotlib inline"
   ]
  },
  {
   "cell_type": "code",
   "execution_count": 4,
   "metadata": {
    "colab": {
     "base_uri": "https://localhost:8080/"
    },
    "id": "9CnAQWFnc25v",
    "outputId": "392d1d1c-4858-4d85-83f0-0538e18ea67b",
    "scrolled": true
   },
   "outputs": [
    {
     "name": "stdout",
     "output_type": "stream",
     "text": [
      "Requirement already up-to-date: pandas==0.25.0 in /opt/conda/lib/python3.6/site-packages (0.25.0)\n",
      "Requirement already satisfied, skipping upgrade: pytz>=2017.2 in /opt/conda/lib/python3.6/site-packages (from pandas==0.25.0) (2017.3)\n",
      "Requirement already satisfied, skipping upgrade: numpy>=1.13.3 in /opt/conda/lib/python3.6/site-packages (from pandas==0.25.0) (1.16.5)\n",
      "Requirement already satisfied, skipping upgrade: python-dateutil>=2.6.1 in /opt/conda/lib/python3.6/site-packages (from pandas==0.25.0) (2.6.1)\n",
      "Requirement already satisfied, skipping upgrade: six>=1.5 in /opt/conda/lib/python3.6/site-packages (from python-dateutil>=2.6.1->pandas==0.25.0) (1.11.0)\n"
     ]
    }
   ],
   "source": [
    "# Upgrade pandas to use dataframe.explode() function. \n",
    "!pip install --upgrade pandas==0.25.0"
   ]
  },
  {
   "cell_type": "markdown",
   "metadata": {
    "id": "h8_n3euN8Qex"
   },
   "source": [
    "In the cell below i installed an upgrade for numpy"
   ]
  },
  {
   "cell_type": "code",
   "execution_count": 5,
   "metadata": {
    "colab": {
     "base_uri": "https://localhost:8080/"
    },
    "id": "Kc6ZxmV8osJ7",
    "outputId": "c6dbc91f-1559-4c49-be5b-1ae316e04587"
   },
   "outputs": [
    {
     "name": "stdout",
     "output_type": "stream",
     "text": [
      "Requirement already satisfied: numpy==1.16.5 in /opt/conda/lib/python3.6/site-packages (1.16.5)\r\n"
     ]
    }
   ],
   "source": [
    "# Upgrade numpy in order for the df.head() function to run properly\n",
    "!pip install numpy==1.16.5"
   ]
  },
  {
   "cell_type": "markdown",
   "metadata": {
    "id": "Xz46Fq3bc25y"
   },
   "source": [
    "<a id=\"wrangling\"></a>\n",
    "# Data Wrangling"
   ]
  },
  {
   "cell_type": "markdown",
   "metadata": {
    "id": "s22gbAxgc25z"
   },
   "source": [
    "In the cell below I wrote a peice of code in order to import the tmdb movie data set to begin working on wrangling by placing it into a dataframe."
   ]
  },
  {
   "cell_type": "code",
   "execution_count": 6,
   "metadata": {
    "id": "bGfq39XSc251"
   },
   "outputs": [],
   "source": [
    "# I imported the tmdb movie data set\n",
    "df = pd.read_csv('tmdb-movies.csv')"
   ]
  },
  {
   "cell_type": "markdown",
   "metadata": {
    "id": "UkxrOakrc253"
   },
   "source": [
    "I first checked if the data was imported correctly by ''printing'' out the first few rows."
   ]
  },
  {
   "cell_type": "code",
   "execution_count": 7,
   "metadata": {
    "colab": {
     "base_uri": "https://localhost:8080/",
     "height": 699
    },
    "id": "zMQNSGbgc256",
    "outputId": "c00e1e4f-87be-474f-af3a-b5b0cfd3d749"
   },
   "outputs": [
    {
     "data": {
      "text/html": [
       "<div>\n",
       "<style scoped>\n",
       "    .dataframe tbody tr th:only-of-type {\n",
       "        vertical-align: middle;\n",
       "    }\n",
       "\n",
       "    .dataframe tbody tr th {\n",
       "        vertical-align: top;\n",
       "    }\n",
       "\n",
       "    .dataframe thead th {\n",
       "        text-align: right;\n",
       "    }\n",
       "</style>\n",
       "<table border=\"1\" class=\"dataframe\">\n",
       "  <thead>\n",
       "    <tr style=\"text-align: right;\">\n",
       "      <th></th>\n",
       "      <th>id</th>\n",
       "      <th>imdb_id</th>\n",
       "      <th>popularity</th>\n",
       "      <th>budget</th>\n",
       "      <th>revenue</th>\n",
       "      <th>original_title</th>\n",
       "      <th>cast</th>\n",
       "      <th>homepage</th>\n",
       "      <th>director</th>\n",
       "      <th>tagline</th>\n",
       "      <th>...</th>\n",
       "      <th>overview</th>\n",
       "      <th>runtime</th>\n",
       "      <th>genres</th>\n",
       "      <th>production_companies</th>\n",
       "      <th>release_date</th>\n",
       "      <th>vote_count</th>\n",
       "      <th>vote_average</th>\n",
       "      <th>release_year</th>\n",
       "      <th>budget_adj</th>\n",
       "      <th>revenue_adj</th>\n",
       "    </tr>\n",
       "  </thead>\n",
       "  <tbody>\n",
       "    <tr>\n",
       "      <th>0</th>\n",
       "      <td>135397</td>\n",
       "      <td>tt0369610</td>\n",
       "      <td>32.985763</td>\n",
       "      <td>150000000</td>\n",
       "      <td>1513528810</td>\n",
       "      <td>Jurassic World</td>\n",
       "      <td>Chris Pratt|Bryce Dallas Howard|Irrfan Khan|Vi...</td>\n",
       "      <td>http://www.jurassicworld.com/</td>\n",
       "      <td>Colin Trevorrow</td>\n",
       "      <td>The park is open.</td>\n",
       "      <td>...</td>\n",
       "      <td>Twenty-two years after the events of Jurassic ...</td>\n",
       "      <td>124</td>\n",
       "      <td>Action|Adventure|Science Fiction|Thriller</td>\n",
       "      <td>Universal Studios|Amblin Entertainment|Legenda...</td>\n",
       "      <td>6/9/15</td>\n",
       "      <td>5562</td>\n",
       "      <td>6.5</td>\n",
       "      <td>2015</td>\n",
       "      <td>1.379999e+08</td>\n",
       "      <td>1.392446e+09</td>\n",
       "    </tr>\n",
       "    <tr>\n",
       "      <th>1</th>\n",
       "      <td>76341</td>\n",
       "      <td>tt1392190</td>\n",
       "      <td>28.419936</td>\n",
       "      <td>150000000</td>\n",
       "      <td>378436354</td>\n",
       "      <td>Mad Max: Fury Road</td>\n",
       "      <td>Tom Hardy|Charlize Theron|Hugh Keays-Byrne|Nic...</td>\n",
       "      <td>http://www.madmaxmovie.com/</td>\n",
       "      <td>George Miller</td>\n",
       "      <td>What a Lovely Day.</td>\n",
       "      <td>...</td>\n",
       "      <td>An apocalyptic story set in the furthest reach...</td>\n",
       "      <td>120</td>\n",
       "      <td>Action|Adventure|Science Fiction|Thriller</td>\n",
       "      <td>Village Roadshow Pictures|Kennedy Miller Produ...</td>\n",
       "      <td>5/13/15</td>\n",
       "      <td>6185</td>\n",
       "      <td>7.1</td>\n",
       "      <td>2015</td>\n",
       "      <td>1.379999e+08</td>\n",
       "      <td>3.481613e+08</td>\n",
       "    </tr>\n",
       "    <tr>\n",
       "      <th>2</th>\n",
       "      <td>262500</td>\n",
       "      <td>tt2908446</td>\n",
       "      <td>13.112507</td>\n",
       "      <td>110000000</td>\n",
       "      <td>295238201</td>\n",
       "      <td>Insurgent</td>\n",
       "      <td>Shailene Woodley|Theo James|Kate Winslet|Ansel...</td>\n",
       "      <td>http://www.thedivergentseries.movie/#insurgent</td>\n",
       "      <td>Robert Schwentke</td>\n",
       "      <td>One Choice Can Destroy You</td>\n",
       "      <td>...</td>\n",
       "      <td>Beatrice Prior must confront her inner demons ...</td>\n",
       "      <td>119</td>\n",
       "      <td>Adventure|Science Fiction|Thriller</td>\n",
       "      <td>Summit Entertainment|Mandeville Films|Red Wago...</td>\n",
       "      <td>3/18/15</td>\n",
       "      <td>2480</td>\n",
       "      <td>6.3</td>\n",
       "      <td>2015</td>\n",
       "      <td>1.012000e+08</td>\n",
       "      <td>2.716190e+08</td>\n",
       "    </tr>\n",
       "    <tr>\n",
       "      <th>3</th>\n",
       "      <td>140607</td>\n",
       "      <td>tt2488496</td>\n",
       "      <td>11.173104</td>\n",
       "      <td>200000000</td>\n",
       "      <td>2068178225</td>\n",
       "      <td>Star Wars: The Force Awakens</td>\n",
       "      <td>Harrison Ford|Mark Hamill|Carrie Fisher|Adam D...</td>\n",
       "      <td>http://www.starwars.com/films/star-wars-episod...</td>\n",
       "      <td>J.J. Abrams</td>\n",
       "      <td>Every generation has a story.</td>\n",
       "      <td>...</td>\n",
       "      <td>Thirty years after defeating the Galactic Empi...</td>\n",
       "      <td>136</td>\n",
       "      <td>Action|Adventure|Science Fiction|Fantasy</td>\n",
       "      <td>Lucasfilm|Truenorth Productions|Bad Robot</td>\n",
       "      <td>12/15/15</td>\n",
       "      <td>5292</td>\n",
       "      <td>7.5</td>\n",
       "      <td>2015</td>\n",
       "      <td>1.839999e+08</td>\n",
       "      <td>1.902723e+09</td>\n",
       "    </tr>\n",
       "    <tr>\n",
       "      <th>4</th>\n",
       "      <td>168259</td>\n",
       "      <td>tt2820852</td>\n",
       "      <td>9.335014</td>\n",
       "      <td>190000000</td>\n",
       "      <td>1506249360</td>\n",
       "      <td>Furious 7</td>\n",
       "      <td>Vin Diesel|Paul Walker|Jason Statham|Michelle ...</td>\n",
       "      <td>http://www.furious7.com/</td>\n",
       "      <td>James Wan</td>\n",
       "      <td>Vengeance Hits Home</td>\n",
       "      <td>...</td>\n",
       "      <td>Deckard Shaw seeks revenge against Dominic Tor...</td>\n",
       "      <td>137</td>\n",
       "      <td>Action|Crime|Thriller</td>\n",
       "      <td>Universal Pictures|Original Film|Media Rights ...</td>\n",
       "      <td>4/1/15</td>\n",
       "      <td>2947</td>\n",
       "      <td>7.3</td>\n",
       "      <td>2015</td>\n",
       "      <td>1.747999e+08</td>\n",
       "      <td>1.385749e+09</td>\n",
       "    </tr>\n",
       "  </tbody>\n",
       "</table>\n",
       "<p>5 rows × 21 columns</p>\n",
       "</div>"
      ],
      "text/plain": [
       "       id    imdb_id  popularity     budget     revenue  \\\n",
       "0  135397  tt0369610   32.985763  150000000  1513528810   \n",
       "1   76341  tt1392190   28.419936  150000000   378436354   \n",
       "2  262500  tt2908446   13.112507  110000000   295238201   \n",
       "3  140607  tt2488496   11.173104  200000000  2068178225   \n",
       "4  168259  tt2820852    9.335014  190000000  1506249360   \n",
       "\n",
       "                 original_title  \\\n",
       "0                Jurassic World   \n",
       "1            Mad Max: Fury Road   \n",
       "2                     Insurgent   \n",
       "3  Star Wars: The Force Awakens   \n",
       "4                     Furious 7   \n",
       "\n",
       "                                                cast  \\\n",
       "0  Chris Pratt|Bryce Dallas Howard|Irrfan Khan|Vi...   \n",
       "1  Tom Hardy|Charlize Theron|Hugh Keays-Byrne|Nic...   \n",
       "2  Shailene Woodley|Theo James|Kate Winslet|Ansel...   \n",
       "3  Harrison Ford|Mark Hamill|Carrie Fisher|Adam D...   \n",
       "4  Vin Diesel|Paul Walker|Jason Statham|Michelle ...   \n",
       "\n",
       "                                            homepage          director  \\\n",
       "0                      http://www.jurassicworld.com/   Colin Trevorrow   \n",
       "1                        http://www.madmaxmovie.com/     George Miller   \n",
       "2     http://www.thedivergentseries.movie/#insurgent  Robert Schwentke   \n",
       "3  http://www.starwars.com/films/star-wars-episod...       J.J. Abrams   \n",
       "4                           http://www.furious7.com/         James Wan   \n",
       "\n",
       "                         tagline  ...  \\\n",
       "0              The park is open.  ...   \n",
       "1             What a Lovely Day.  ...   \n",
       "2     One Choice Can Destroy You  ...   \n",
       "3  Every generation has a story.  ...   \n",
       "4            Vengeance Hits Home  ...   \n",
       "\n",
       "                                            overview runtime  \\\n",
       "0  Twenty-two years after the events of Jurassic ...     124   \n",
       "1  An apocalyptic story set in the furthest reach...     120   \n",
       "2  Beatrice Prior must confront her inner demons ...     119   \n",
       "3  Thirty years after defeating the Galactic Empi...     136   \n",
       "4  Deckard Shaw seeks revenge against Dominic Tor...     137   \n",
       "\n",
       "                                      genres  \\\n",
       "0  Action|Adventure|Science Fiction|Thriller   \n",
       "1  Action|Adventure|Science Fiction|Thriller   \n",
       "2         Adventure|Science Fiction|Thriller   \n",
       "3   Action|Adventure|Science Fiction|Fantasy   \n",
       "4                      Action|Crime|Thriller   \n",
       "\n",
       "                                production_companies release_date vote_count  \\\n",
       "0  Universal Studios|Amblin Entertainment|Legenda...       6/9/15       5562   \n",
       "1  Village Roadshow Pictures|Kennedy Miller Produ...      5/13/15       6185   \n",
       "2  Summit Entertainment|Mandeville Films|Red Wago...      3/18/15       2480   \n",
       "3          Lucasfilm|Truenorth Productions|Bad Robot     12/15/15       5292   \n",
       "4  Universal Pictures|Original Film|Media Rights ...       4/1/15       2947   \n",
       "\n",
       "   vote_average  release_year    budget_adj   revenue_adj  \n",
       "0           6.5          2015  1.379999e+08  1.392446e+09  \n",
       "1           7.1          2015  1.379999e+08  3.481613e+08  \n",
       "2           6.3          2015  1.012000e+08  2.716190e+08  \n",
       "3           7.5          2015  1.839999e+08  1.902723e+09  \n",
       "4           7.3          2015  1.747999e+08  1.385749e+09  \n",
       "\n",
       "[5 rows x 21 columns]"
      ]
     },
     "execution_count": 7,
     "metadata": {},
     "output_type": "execute_result"
    }
   ],
   "source": [
    "# I got the first few rows to check if the data was imported correctly with df.head().\n",
    "df.head()"
   ]
  },
  {
   "cell_type": "markdown",
   "metadata": {
    "id": "65Dv1AwVc259"
   },
   "source": [
    "Then in the following cell i also checked the last few rows were to see if there is any apparent missing data that needs to be adressed before analysis is done."
   ]
  },
  {
   "cell_type": "code",
   "execution_count": 8,
   "metadata": {
    "colab": {
     "base_uri": "https://localhost:8080/",
     "height": 716
    },
    "id": "pW1nKAYZc25-",
    "outputId": "09c9ca8a-9762-4a4a-8b57-7c09eadc05ca"
   },
   "outputs": [
    {
     "data": {
      "text/html": [
       "<div>\n",
       "<style scoped>\n",
       "    .dataframe tbody tr th:only-of-type {\n",
       "        vertical-align: middle;\n",
       "    }\n",
       "\n",
       "    .dataframe tbody tr th {\n",
       "        vertical-align: top;\n",
       "    }\n",
       "\n",
       "    .dataframe thead th {\n",
       "        text-align: right;\n",
       "    }\n",
       "</style>\n",
       "<table border=\"1\" class=\"dataframe\">\n",
       "  <thead>\n",
       "    <tr style=\"text-align: right;\">\n",
       "      <th></th>\n",
       "      <th>id</th>\n",
       "      <th>imdb_id</th>\n",
       "      <th>popularity</th>\n",
       "      <th>budget</th>\n",
       "      <th>revenue</th>\n",
       "      <th>original_title</th>\n",
       "      <th>cast</th>\n",
       "      <th>homepage</th>\n",
       "      <th>director</th>\n",
       "      <th>tagline</th>\n",
       "      <th>...</th>\n",
       "      <th>overview</th>\n",
       "      <th>runtime</th>\n",
       "      <th>genres</th>\n",
       "      <th>production_companies</th>\n",
       "      <th>release_date</th>\n",
       "      <th>vote_count</th>\n",
       "      <th>vote_average</th>\n",
       "      <th>release_year</th>\n",
       "      <th>budget_adj</th>\n",
       "      <th>revenue_adj</th>\n",
       "    </tr>\n",
       "  </thead>\n",
       "  <tbody>\n",
       "    <tr>\n",
       "      <th>10861</th>\n",
       "      <td>21</td>\n",
       "      <td>tt0060371</td>\n",
       "      <td>0.080598</td>\n",
       "      <td>0</td>\n",
       "      <td>0</td>\n",
       "      <td>The Endless Summer</td>\n",
       "      <td>Michael Hynson|Robert August|Lord 'Tally Ho' B...</td>\n",
       "      <td>NaN</td>\n",
       "      <td>Bruce Brown</td>\n",
       "      <td>NaN</td>\n",
       "      <td>...</td>\n",
       "      <td>The Endless Summer, by Bruce Brown, is one of ...</td>\n",
       "      <td>95</td>\n",
       "      <td>Documentary</td>\n",
       "      <td>Bruce Brown Films</td>\n",
       "      <td>6/15/66</td>\n",
       "      <td>11</td>\n",
       "      <td>7.4</td>\n",
       "      <td>1966</td>\n",
       "      <td>0.000000</td>\n",
       "      <td>0.0</td>\n",
       "    </tr>\n",
       "    <tr>\n",
       "      <th>10862</th>\n",
       "      <td>20379</td>\n",
       "      <td>tt0060472</td>\n",
       "      <td>0.065543</td>\n",
       "      <td>0</td>\n",
       "      <td>0</td>\n",
       "      <td>Grand Prix</td>\n",
       "      <td>James Garner|Eva Marie Saint|Yves Montand|Tosh...</td>\n",
       "      <td>NaN</td>\n",
       "      <td>John Frankenheimer</td>\n",
       "      <td>Cinerama sweeps YOU into a drama of speed and ...</td>\n",
       "      <td>...</td>\n",
       "      <td>Grand Prix driver Pete Aron is fired by his te...</td>\n",
       "      <td>176</td>\n",
       "      <td>Action|Adventure|Drama</td>\n",
       "      <td>Cherokee Productions|Joel Productions|Douglas ...</td>\n",
       "      <td>12/21/66</td>\n",
       "      <td>20</td>\n",
       "      <td>5.7</td>\n",
       "      <td>1966</td>\n",
       "      <td>0.000000</td>\n",
       "      <td>0.0</td>\n",
       "    </tr>\n",
       "    <tr>\n",
       "      <th>10863</th>\n",
       "      <td>39768</td>\n",
       "      <td>tt0060161</td>\n",
       "      <td>0.065141</td>\n",
       "      <td>0</td>\n",
       "      <td>0</td>\n",
       "      <td>Beregis Avtomobilya</td>\n",
       "      <td>Innokentiy Smoktunovskiy|Oleg Efremov|Georgi Z...</td>\n",
       "      <td>NaN</td>\n",
       "      <td>Eldar Ryazanov</td>\n",
       "      <td>NaN</td>\n",
       "      <td>...</td>\n",
       "      <td>An insurance agent who moonlights as a carthie...</td>\n",
       "      <td>94</td>\n",
       "      <td>Mystery|Comedy</td>\n",
       "      <td>Mosfilm</td>\n",
       "      <td>1/1/66</td>\n",
       "      <td>11</td>\n",
       "      <td>6.5</td>\n",
       "      <td>1966</td>\n",
       "      <td>0.000000</td>\n",
       "      <td>0.0</td>\n",
       "    </tr>\n",
       "    <tr>\n",
       "      <th>10864</th>\n",
       "      <td>21449</td>\n",
       "      <td>tt0061177</td>\n",
       "      <td>0.064317</td>\n",
       "      <td>0</td>\n",
       "      <td>0</td>\n",
       "      <td>What's Up, Tiger Lily?</td>\n",
       "      <td>Tatsuya Mihashi|Akiko Wakabayashi|Mie Hama|Joh...</td>\n",
       "      <td>NaN</td>\n",
       "      <td>Woody Allen</td>\n",
       "      <td>WOODY ALLEN STRIKES BACK!</td>\n",
       "      <td>...</td>\n",
       "      <td>In comic Woody Allen's film debut, he took the...</td>\n",
       "      <td>80</td>\n",
       "      <td>Action|Comedy</td>\n",
       "      <td>Benedict Pictures Corp.</td>\n",
       "      <td>11/2/66</td>\n",
       "      <td>22</td>\n",
       "      <td>5.4</td>\n",
       "      <td>1966</td>\n",
       "      <td>0.000000</td>\n",
       "      <td>0.0</td>\n",
       "    </tr>\n",
       "    <tr>\n",
       "      <th>10865</th>\n",
       "      <td>22293</td>\n",
       "      <td>tt0060666</td>\n",
       "      <td>0.035919</td>\n",
       "      <td>19000</td>\n",
       "      <td>0</td>\n",
       "      <td>Manos: The Hands of Fate</td>\n",
       "      <td>Harold P. Warren|Tom Neyman|John Reynolds|Dian...</td>\n",
       "      <td>NaN</td>\n",
       "      <td>Harold P. Warren</td>\n",
       "      <td>It's Shocking! It's Beyond Your Imagination!</td>\n",
       "      <td>...</td>\n",
       "      <td>A family gets lost on the road and stumbles up...</td>\n",
       "      <td>74</td>\n",
       "      <td>Horror</td>\n",
       "      <td>Norm-Iris</td>\n",
       "      <td>11/15/66</td>\n",
       "      <td>15</td>\n",
       "      <td>1.5</td>\n",
       "      <td>1966</td>\n",
       "      <td>127642.279154</td>\n",
       "      <td>0.0</td>\n",
       "    </tr>\n",
       "  </tbody>\n",
       "</table>\n",
       "<p>5 rows × 21 columns</p>\n",
       "</div>"
      ],
      "text/plain": [
       "          id    imdb_id  popularity  budget  revenue  \\\n",
       "10861     21  tt0060371    0.080598       0        0   \n",
       "10862  20379  tt0060472    0.065543       0        0   \n",
       "10863  39768  tt0060161    0.065141       0        0   \n",
       "10864  21449  tt0061177    0.064317       0        0   \n",
       "10865  22293  tt0060666    0.035919   19000        0   \n",
       "\n",
       "                 original_title  \\\n",
       "10861        The Endless Summer   \n",
       "10862                Grand Prix   \n",
       "10863       Beregis Avtomobilya   \n",
       "10864    What's Up, Tiger Lily?   \n",
       "10865  Manos: The Hands of Fate   \n",
       "\n",
       "                                                    cast homepage  \\\n",
       "10861  Michael Hynson|Robert August|Lord 'Tally Ho' B...      NaN   \n",
       "10862  James Garner|Eva Marie Saint|Yves Montand|Tosh...      NaN   \n",
       "10863  Innokentiy Smoktunovskiy|Oleg Efremov|Georgi Z...      NaN   \n",
       "10864  Tatsuya Mihashi|Akiko Wakabayashi|Mie Hama|Joh...      NaN   \n",
       "10865  Harold P. Warren|Tom Neyman|John Reynolds|Dian...      NaN   \n",
       "\n",
       "                 director                                            tagline  \\\n",
       "10861         Bruce Brown                                                NaN   \n",
       "10862  John Frankenheimer  Cinerama sweeps YOU into a drama of speed and ...   \n",
       "10863      Eldar Ryazanov                                                NaN   \n",
       "10864         Woody Allen                          WOODY ALLEN STRIKES BACK!   \n",
       "10865    Harold P. Warren       It's Shocking! It's Beyond Your Imagination!   \n",
       "\n",
       "       ...                                           overview runtime  \\\n",
       "10861  ...  The Endless Summer, by Bruce Brown, is one of ...      95   \n",
       "10862  ...  Grand Prix driver Pete Aron is fired by his te...     176   \n",
       "10863  ...  An insurance agent who moonlights as a carthie...      94   \n",
       "10864  ...  In comic Woody Allen's film debut, he took the...      80   \n",
       "10865  ...  A family gets lost on the road and stumbles up...      74   \n",
       "\n",
       "                       genres  \\\n",
       "10861             Documentary   \n",
       "10862  Action|Adventure|Drama   \n",
       "10863          Mystery|Comedy   \n",
       "10864           Action|Comedy   \n",
       "10865                  Horror   \n",
       "\n",
       "                                    production_companies release_date  \\\n",
       "10861                                  Bruce Brown Films      6/15/66   \n",
       "10862  Cherokee Productions|Joel Productions|Douglas ...     12/21/66   \n",
       "10863                                            Mosfilm       1/1/66   \n",
       "10864                            Benedict Pictures Corp.      11/2/66   \n",
       "10865                                          Norm-Iris     11/15/66   \n",
       "\n",
       "      vote_count  vote_average  release_year     budget_adj  revenue_adj  \n",
       "10861         11           7.4          1966       0.000000          0.0  \n",
       "10862         20           5.7          1966       0.000000          0.0  \n",
       "10863         11           6.5          1966       0.000000          0.0  \n",
       "10864         22           5.4          1966       0.000000          0.0  \n",
       "10865         15           1.5          1966  127642.279154          0.0  \n",
       "\n",
       "[5 rows x 21 columns]"
      ]
     },
     "execution_count": 8,
     "metadata": {},
     "output_type": "execute_result"
    }
   ],
   "source": [
    "# I checked the last few rows to see if there is any apparent missing data using df.tail(). \n",
    "df.tail()"
   ]
  },
  {
   "cell_type": "markdown",
   "metadata": {
    "id": "MdlC0hbkc26A"
   },
   "source": [
    "From the cell above we can see that there 0 values present in multiple areas within our data set. So in the cell below we wanted to see the rows with 0-values in a small table."
   ]
  },
  {
   "cell_type": "code",
   "execution_count": 9,
   "metadata": {
    "colab": {
     "base_uri": "https://localhost:8080/",
     "height": 1000
    },
    "id": "hZbh2inMc26B",
    "outputId": "0a445dae-bcbf-46e9-f0f8-5d5fdc145cc4",
    "scrolled": true
   },
   "outputs": [
    {
     "data": {
      "text/html": [
       "<div>\n",
       "<style scoped>\n",
       "    .dataframe tbody tr th:only-of-type {\n",
       "        vertical-align: middle;\n",
       "    }\n",
       "\n",
       "    .dataframe tbody tr th {\n",
       "        vertical-align: top;\n",
       "    }\n",
       "\n",
       "    .dataframe thead th {\n",
       "        text-align: right;\n",
       "    }\n",
       "</style>\n",
       "<table border=\"1\" class=\"dataframe\">\n",
       "  <thead>\n",
       "    <tr style=\"text-align: right;\">\n",
       "      <th></th>\n",
       "      <th>id</th>\n",
       "      <th>imdb_id</th>\n",
       "      <th>popularity</th>\n",
       "      <th>budget</th>\n",
       "      <th>revenue</th>\n",
       "      <th>original_title</th>\n",
       "      <th>cast</th>\n",
       "      <th>homepage</th>\n",
       "      <th>director</th>\n",
       "      <th>tagline</th>\n",
       "      <th>...</th>\n",
       "      <th>overview</th>\n",
       "      <th>runtime</th>\n",
       "      <th>genres</th>\n",
       "      <th>production_companies</th>\n",
       "      <th>release_date</th>\n",
       "      <th>vote_count</th>\n",
       "      <th>vote_average</th>\n",
       "      <th>release_year</th>\n",
       "      <th>budget_adj</th>\n",
       "      <th>revenue_adj</th>\n",
       "    </tr>\n",
       "  </thead>\n",
       "  <tbody>\n",
       "    <tr>\n",
       "      <th>92</th>\n",
       "      <td>370687</td>\n",
       "      <td>tt3608646</td>\n",
       "      <td>1.876037</td>\n",
       "      <td>0</td>\n",
       "      <td>0</td>\n",
       "      <td>Mythica: The Necromancer</td>\n",
       "      <td>Melanie Stone|Adam Johnson|Kevin Sorbo|Nicola ...</td>\n",
       "      <td>http://www.mythicamovie.com/#!blank/y9ake</td>\n",
       "      <td>A. Todd Smith</td>\n",
       "      <td>NaN</td>\n",
       "      <td>...</td>\n",
       "      <td>Mallister takes Thane prisoner and forces Mare...</td>\n",
       "      <td>0</td>\n",
       "      <td>Fantasy|Action|Adventure</td>\n",
       "      <td>Arrowstorm Entertainment|Camera 40 Productions...</td>\n",
       "      <td>12/19/15</td>\n",
       "      <td>11</td>\n",
       "      <td>5.4</td>\n",
       "      <td>2015</td>\n",
       "      <td>0.000000e+00</td>\n",
       "      <td>0.0</td>\n",
       "    </tr>\n",
       "    <tr>\n",
       "      <th>334</th>\n",
       "      <td>361931</td>\n",
       "      <td>tt5065822</td>\n",
       "      <td>0.357654</td>\n",
       "      <td>0</td>\n",
       "      <td>0</td>\n",
       "      <td>Ronaldo</td>\n",
       "      <td>Cristiano Ronaldo</td>\n",
       "      <td>http://www.ronaldothefilm.com</td>\n",
       "      <td>Anthony Wonke</td>\n",
       "      <td>Astonishing. Intimate. Definitive.</td>\n",
       "      <td>...</td>\n",
       "      <td>Filmed over 14 months with unprecedented acces...</td>\n",
       "      <td>0</td>\n",
       "      <td>Documentary</td>\n",
       "      <td>On The Corner Films|We Came, We Saw, We Conque...</td>\n",
       "      <td>11/9/15</td>\n",
       "      <td>80</td>\n",
       "      <td>6.5</td>\n",
       "      <td>2015</td>\n",
       "      <td>0.000000e+00</td>\n",
       "      <td>0.0</td>\n",
       "    </tr>\n",
       "    <tr>\n",
       "      <th>410</th>\n",
       "      <td>339342</td>\n",
       "      <td>tt2948712</td>\n",
       "      <td>0.097514</td>\n",
       "      <td>0</td>\n",
       "      <td>0</td>\n",
       "      <td>Anarchy Parlor</td>\n",
       "      <td>Robert LaSardo|Jordan James Smith|Sara Fabel|T...</td>\n",
       "      <td>NaN</td>\n",
       "      <td>Kenny Gage|Devon Downs</td>\n",
       "      <td>NaN</td>\n",
       "      <td>...</td>\n",
       "      <td>Six young college hopefuls vacationing and par...</td>\n",
       "      <td>0</td>\n",
       "      <td>Horror</td>\n",
       "      <td>NaN</td>\n",
       "      <td>1/1/15</td>\n",
       "      <td>15</td>\n",
       "      <td>5.6</td>\n",
       "      <td>2015</td>\n",
       "      <td>0.000000e+00</td>\n",
       "      <td>0.0</td>\n",
       "    </tr>\n",
       "    <tr>\n",
       "      <th>445</th>\n",
       "      <td>353345</td>\n",
       "      <td>tt3800796</td>\n",
       "      <td>0.218528</td>\n",
       "      <td>0</td>\n",
       "      <td>0</td>\n",
       "      <td>The Exorcism of Molly Hartley</td>\n",
       "      <td>Sarah Lind|Devon Sawa|Gina Holden|Peter MacNei...</td>\n",
       "      <td>NaN</td>\n",
       "      <td>Steven R. Monroe</td>\n",
       "      <td>NaN</td>\n",
       "      <td>...</td>\n",
       "      <td>Taking place years after The Haunting of Molly...</td>\n",
       "      <td>0</td>\n",
       "      <td>Horror</td>\n",
       "      <td>WT Canada Productions</td>\n",
       "      <td>10/9/15</td>\n",
       "      <td>52</td>\n",
       "      <td>5.0</td>\n",
       "      <td>2015</td>\n",
       "      <td>0.000000e+00</td>\n",
       "      <td>0.0</td>\n",
       "    </tr>\n",
       "    <tr>\n",
       "      <th>486</th>\n",
       "      <td>333653</td>\n",
       "      <td>tt4058368</td>\n",
       "      <td>0.176744</td>\n",
       "      <td>0</td>\n",
       "      <td>0</td>\n",
       "      <td>If There Be Thorns</td>\n",
       "      <td>Heather Graham|Jason Lewis|Rachael Carpani|Mas...</td>\n",
       "      <td>NaN</td>\n",
       "      <td>Nancy Savoca</td>\n",
       "      <td>NaN</td>\n",
       "      <td>...</td>\n",
       "      <td>The third installment in V.C. Andrewsâ€™ bests...</td>\n",
       "      <td>0</td>\n",
       "      <td>TV Movie|Drama</td>\n",
       "      <td>A+E Studios|Jane Startz Productions</td>\n",
       "      <td>4/5/15</td>\n",
       "      <td>11</td>\n",
       "      <td>5.4</td>\n",
       "      <td>2015</td>\n",
       "      <td>0.000000e+00</td>\n",
       "      <td>0.0</td>\n",
       "    </tr>\n",
       "    <tr>\n",
       "      <th>595</th>\n",
       "      <td>341051</td>\n",
       "      <td>tt2914740</td>\n",
       "      <td>0.028725</td>\n",
       "      <td>0</td>\n",
       "      <td>0</td>\n",
       "      <td>Deep Dark</td>\n",
       "      <td>Sean McGrath|Denise Poirier|Anne Sorce|Tabor H...</td>\n",
       "      <td>http://deepdarkmovie.com</td>\n",
       "      <td>Michael Medaglia</td>\n",
       "      <td>NaN</td>\n",
       "      <td>...</td>\n",
       "      <td>Fantasy - A failed sculptor discovers a strang...</td>\n",
       "      <td>0</td>\n",
       "      <td>Horror</td>\n",
       "      <td>NaN</td>\n",
       "      <td>1/1/15</td>\n",
       "      <td>11</td>\n",
       "      <td>4.6</td>\n",
       "      <td>2015</td>\n",
       "      <td>0.000000e+00</td>\n",
       "      <td>0.0</td>\n",
       "    </tr>\n",
       "    <tr>\n",
       "      <th>616</th>\n",
       "      <td>325843</td>\n",
       "      <td>tt4333210</td>\n",
       "      <td>0.026797</td>\n",
       "      <td>0</td>\n",
       "      <td>0</td>\n",
       "      <td>The Outfield</td>\n",
       "      <td>Cameron Dallas|Hamilton Nash Grier|Olivia Stuc...</td>\n",
       "      <td>NaN</td>\n",
       "      <td>Michael Goldfine</td>\n",
       "      <td>NaN</td>\n",
       "      <td>...</td>\n",
       "      <td>The film follows a trio of varsity baseball pl...</td>\n",
       "      <td>0</td>\n",
       "      <td>Drama|Comedy</td>\n",
       "      <td>NaN</td>\n",
       "      <td>11/10/15</td>\n",
       "      <td>20</td>\n",
       "      <td>6.6</td>\n",
       "      <td>2015</td>\n",
       "      <td>0.000000e+00</td>\n",
       "      <td>0.0</td>\n",
       "    </tr>\n",
       "    <tr>\n",
       "      <th>1241</th>\n",
       "      <td>296370</td>\n",
       "      <td>tt3024964</td>\n",
       "      <td>0.135376</td>\n",
       "      <td>0</td>\n",
       "      <td>0</td>\n",
       "      <td>Dance-Off</td>\n",
       "      <td>Kathryn McCormick|Shane Harper|Finola Hughes|C...</td>\n",
       "      <td>NaN</td>\n",
       "      <td>NaN</td>\n",
       "      <td>NaN</td>\n",
       "      <td>...</td>\n",
       "      <td>DANCE-OFF is a tongue-in-cheek family comedy s...</td>\n",
       "      <td>0</td>\n",
       "      <td>Romance|Music|Comedy</td>\n",
       "      <td>NaN</td>\n",
       "      <td>1/1/14</td>\n",
       "      <td>18</td>\n",
       "      <td>5.7</td>\n",
       "      <td>2014</td>\n",
       "      <td>0.000000e+00</td>\n",
       "      <td>0.0</td>\n",
       "    </tr>\n",
       "    <tr>\n",
       "      <th>1289</th>\n",
       "      <td>286372</td>\n",
       "      <td>tt1791681</td>\n",
       "      <td>0.037459</td>\n",
       "      <td>3250000</td>\n",
       "      <td>0</td>\n",
       "      <td>Treehouse</td>\n",
       "      <td>J. Michael Trautmann|Dana Melanie|Daniel Fredr...</td>\n",
       "      <td>http://www.imdb.com/title/tt1791681/</td>\n",
       "      <td>Michael G. Bartlett</td>\n",
       "      <td>No kids allowed</td>\n",
       "      <td>...</td>\n",
       "      <td>A teenage boy discovers the perpetrators of se...</td>\n",
       "      <td>0</td>\n",
       "      <td>Thriller|Horror|Mystery</td>\n",
       "      <td>Tiberius Film</td>\n",
       "      <td>10/20/14</td>\n",
       "      <td>16</td>\n",
       "      <td>3.4</td>\n",
       "      <td>2014</td>\n",
       "      <td>2.993546e+06</td>\n",
       "      <td>0.0</td>\n",
       "    </tr>\n",
       "    <tr>\n",
       "      <th>1293</th>\n",
       "      <td>286256</td>\n",
       "      <td>tt3134058</td>\n",
       "      <td>0.036904</td>\n",
       "      <td>0</td>\n",
       "      <td>0</td>\n",
       "      <td>Tim Maia</td>\n",
       "      <td>Robson Nunes|BabÃº Santana|Alinne Moraes|CauÃ£...</td>\n",
       "      <td>NaN</td>\n",
       "      <td>Mauro Lima</td>\n",
       "      <td>Original language PORTUGUESE</td>\n",
       "      <td>...</td>\n",
       "      <td>Biopic of Brazilian singer Tim Maia, from his ...</td>\n",
       "      <td>0</td>\n",
       "      <td>Documentary|Drama|Music</td>\n",
       "      <td>Globo Filmes</td>\n",
       "      <td>10/30/14</td>\n",
       "      <td>14</td>\n",
       "      <td>6.0</td>\n",
       "      <td>2014</td>\n",
       "      <td>0.000000e+00</td>\n",
       "      <td>0.0</td>\n",
       "    </tr>\n",
       "    <tr>\n",
       "      <th>1849</th>\n",
       "      <td>18247</td>\n",
       "      <td>tt1212986</td>\n",
       "      <td>0.120350</td>\n",
       "      <td>0</td>\n",
       "      <td>0</td>\n",
       "      <td>Spectacular!</td>\n",
       "      <td>Nolan Gerard Funk|Jesse Moss|Britt Irvin|Tammi...</td>\n",
       "      <td>NaN</td>\n",
       "      <td>Robert Iscove</td>\n",
       "      <td>NaN</td>\n",
       "      <td>...</td>\n",
       "      <td>A high school choir is fading in popularity, a...</td>\n",
       "      <td>0</td>\n",
       "      <td>Drama|Music</td>\n",
       "      <td>NaN</td>\n",
       "      <td>2/16/09</td>\n",
       "      <td>13</td>\n",
       "      <td>5.2</td>\n",
       "      <td>2009</td>\n",
       "      <td>0.000000e+00</td>\n",
       "      <td>0.0</td>\n",
       "    </tr>\n",
       "    <tr>\n",
       "      <th>2315</th>\n",
       "      <td>48373</td>\n",
       "      <td>tt1274296</td>\n",
       "      <td>0.171615</td>\n",
       "      <td>0</td>\n",
       "      <td>0</td>\n",
       "      <td>Listen to Your Heart</td>\n",
       "      <td>Alexia Rasmussen|Kent Moran|Cybill Shepherd|Sh...</td>\n",
       "      <td>http://www.listentoyourheartfilm.com/</td>\n",
       "      <td>NaN</td>\n",
       "      <td>One song can change your life.</td>\n",
       "      <td>...</td>\n",
       "      <td>Danny Foster doesn't have much: an apartment a...</td>\n",
       "      <td>0</td>\n",
       "      <td>Drama|Music|Romance</td>\n",
       "      <td>NaN</td>\n",
       "      <td>8/14/10</td>\n",
       "      <td>29</td>\n",
       "      <td>7.3</td>\n",
       "      <td>2010</td>\n",
       "      <td>0.000000e+00</td>\n",
       "      <td>0.0</td>\n",
       "    </tr>\n",
       "    <tr>\n",
       "      <th>2370</th>\n",
       "      <td>127717</td>\n",
       "      <td>tt1525359</td>\n",
       "      <td>0.081892</td>\n",
       "      <td>0</td>\n",
       "      <td>0</td>\n",
       "      <td>Freshman Father</td>\n",
       "      <td>Britt Irvin|Merrilyn Gann|Barbara Tyson|Anthon...</td>\n",
       "      <td>NaN</td>\n",
       "      <td>Michael Scott</td>\n",
       "      <td>NaN</td>\n",
       "      <td>...</td>\n",
       "      <td>NaN</td>\n",
       "      <td>0</td>\n",
       "      <td>NaN</td>\n",
       "      <td>NaN</td>\n",
       "      <td>6/5/10</td>\n",
       "      <td>12</td>\n",
       "      <td>5.8</td>\n",
       "      <td>2010</td>\n",
       "      <td>0.000000e+00</td>\n",
       "      <td>0.0</td>\n",
       "    </tr>\n",
       "    <tr>\n",
       "      <th>3329</th>\n",
       "      <td>20414</td>\n",
       "      <td>tt1077026</td>\n",
       "      <td>0.082898</td>\n",
       "      <td>0</td>\n",
       "      <td>0</td>\n",
       "      <td>Grande, grosso e Verdone</td>\n",
       "      <td>Carlo Verdone|Claudia Gerini|Eva Riccobono|Vit...</td>\n",
       "      <td>NaN</td>\n",
       "      <td>Carlo Verdone</td>\n",
       "      <td>NaN</td>\n",
       "      <td>...</td>\n",
       "      <td>No overview found.</td>\n",
       "      <td>0</td>\n",
       "      <td>Family</td>\n",
       "      <td>Filmauro</td>\n",
       "      <td>3/7/08</td>\n",
       "      <td>35</td>\n",
       "      <td>5.3</td>\n",
       "      <td>2008</td>\n",
       "      <td>0.000000e+00</td>\n",
       "      <td>0.0</td>\n",
       "    </tr>\n",
       "    <tr>\n",
       "      <th>3794</th>\n",
       "      <td>58253</td>\n",
       "      <td>tt1588335</td>\n",
       "      <td>0.183134</td>\n",
       "      <td>0</td>\n",
       "      <td>0</td>\n",
       "      <td>Toi, moi, les autres</td>\n",
       "      <td>LeÃ¯la Bekhti|Benjamin Siksou|CÃ©cile Cassel|C...</td>\n",
       "      <td>http://www.google.fr/m/url?ei=e3BxTcjeLMqB8wP6...</td>\n",
       "      <td>Audrey Estrougo</td>\n",
       "      <td>NaN</td>\n",
       "      <td>...</td>\n",
       "      <td>NaN</td>\n",
       "      <td>0</td>\n",
       "      <td>Music|Romance</td>\n",
       "      <td>NaN</td>\n",
       "      <td>2/22/11</td>\n",
       "      <td>17</td>\n",
       "      <td>5.2</td>\n",
       "      <td>2011</td>\n",
       "      <td>0.000000e+00</td>\n",
       "      <td>0.0</td>\n",
       "    </tr>\n",
       "    <tr>\n",
       "      <th>3857</th>\n",
       "      <td>289097</td>\n",
       "      <td>tt1288636</td>\n",
       "      <td>0.095583</td>\n",
       "      <td>0</td>\n",
       "      <td>0</td>\n",
       "      <td>Cell 213</td>\n",
       "      <td>Bruce Greenwood|Eric Balfour|Michael Rooker|De...</td>\n",
       "      <td>NaN</td>\n",
       "      <td>Stephen Kay</td>\n",
       "      <td>NaN</td>\n",
       "      <td>...</td>\n",
       "      <td>Cocky young attorney Michael Gray finds himsel...</td>\n",
       "      <td>0</td>\n",
       "      <td>Horror</td>\n",
       "      <td>Access Motion Pictures</td>\n",
       "      <td>6/10/11</td>\n",
       "      <td>13</td>\n",
       "      <td>5.2</td>\n",
       "      <td>2011</td>\n",
       "      <td>0.000000e+00</td>\n",
       "      <td>0.0</td>\n",
       "    </tr>\n",
       "    <tr>\n",
       "      <th>3884</th>\n",
       "      <td>105885</td>\n",
       "      <td>tt1754944</td>\n",
       "      <td>0.045198</td>\n",
       "      <td>0</td>\n",
       "      <td>0</td>\n",
       "      <td>eCupid</td>\n",
       "      <td>Houston Rhines|Andy Anderson|John Callahan|Gal...</td>\n",
       "      <td>NaN</td>\n",
       "      <td>J.C. Calciano</td>\n",
       "      <td>NaN</td>\n",
       "      <td>...</td>\n",
       "      <td>From the director of Is It Just Me? comes this...</td>\n",
       "      <td>0</td>\n",
       "      <td>Romance</td>\n",
       "      <td>NaN</td>\n",
       "      <td>6/23/11</td>\n",
       "      <td>12</td>\n",
       "      <td>4.6</td>\n",
       "      <td>2011</td>\n",
       "      <td>0.000000e+00</td>\n",
       "      <td>0.0</td>\n",
       "    </tr>\n",
       "    <tr>\n",
       "      <th>4063</th>\n",
       "      <td>28004</td>\n",
       "      <td>tt0359639</td>\n",
       "      <td>0.371510</td>\n",
       "      <td>6000000</td>\n",
       "      <td>0</td>\n",
       "      <td>Madea's Family Reunion</td>\n",
       "      <td>Tyler Perry|Blair Underwood|Lynn Whitfield|Bor...</td>\n",
       "      <td>NaN</td>\n",
       "      <td>Tyler Perry</td>\n",
       "      <td>NaN</td>\n",
       "      <td>...</td>\n",
       "      <td>Just as the southern matriarch, Madea buries h...</td>\n",
       "      <td>0</td>\n",
       "      <td>Comedy</td>\n",
       "      <td>NaN</td>\n",
       "      <td>1/25/02</td>\n",
       "      <td>49</td>\n",
       "      <td>5.9</td>\n",
       "      <td>2002</td>\n",
       "      <td>7.273568e+06</td>\n",
       "      <td>0.0</td>\n",
       "    </tr>\n",
       "    <tr>\n",
       "      <th>4138</th>\n",
       "      <td>44266</td>\n",
       "      <td>tt0242953</td>\n",
       "      <td>0.035895</td>\n",
       "      <td>0</td>\n",
       "      <td>0</td>\n",
       "      <td>A Time for Dancing</td>\n",
       "      <td>Larisa Oleynik|Shiri Appleby|Peter Coyote|Patr...</td>\n",
       "      <td>NaN</td>\n",
       "      <td>Peter Gilbert</td>\n",
       "      <td>NaN</td>\n",
       "      <td>...</td>\n",
       "      <td>Their love of dance, and their friendship, is ...</td>\n",
       "      <td>0</td>\n",
       "      <td>Drama|Music</td>\n",
       "      <td>NaN</td>\n",
       "      <td>9/6/02</td>\n",
       "      <td>14</td>\n",
       "      <td>7.5</td>\n",
       "      <td>2002</td>\n",
       "      <td>0.000000e+00</td>\n",
       "      <td>0.0</td>\n",
       "    </tr>\n",
       "    <tr>\n",
       "      <th>4829</th>\n",
       "      <td>110490</td>\n",
       "      <td>tt1910605</td>\n",
       "      <td>0.140016</td>\n",
       "      <td>0</td>\n",
       "      <td>0</td>\n",
       "      <td>Rags</td>\n",
       "      <td>Keke Palmer|Avan Jogia|Drake Bell|Burkely Duff...</td>\n",
       "      <td>NaN</td>\n",
       "      <td>Bille Woodruff</td>\n",
       "      <td>NaN</td>\n",
       "      <td>...</td>\n",
       "      <td>Rags follows the story of Charlie Prince, an o...</td>\n",
       "      <td>0</td>\n",
       "      <td>TV Movie|Comedy|Drama</td>\n",
       "      <td>NaN</td>\n",
       "      <td>5/28/12</td>\n",
       "      <td>24</td>\n",
       "      <td>5.7</td>\n",
       "      <td>2012</td>\n",
       "      <td>0.000000e+00</td>\n",
       "      <td>0.0</td>\n",
       "    </tr>\n",
       "    <tr>\n",
       "      <th>4944</th>\n",
       "      <td>158150</td>\n",
       "      <td>tt2395247</td>\n",
       "      <td>0.026459</td>\n",
       "      <td>0</td>\n",
       "      <td>0</td>\n",
       "      <td>How to Fall in Love</td>\n",
       "      <td>Brooke D'Orsay|Eric Mabius|Jody Thompson|Gina ...</td>\n",
       "      <td>NaN</td>\n",
       "      <td>Mark Griffiths</td>\n",
       "      <td>NaN</td>\n",
       "      <td>...</td>\n",
       "      <td>An accountant, who never quite grew out of his...</td>\n",
       "      <td>0</td>\n",
       "      <td>Comedy|Romance|TV Movie</td>\n",
       "      <td>Annuit Coeptis Entertainment Inc.|Annuit Coept...</td>\n",
       "      <td>7/21/12</td>\n",
       "      <td>11</td>\n",
       "      <td>4.7</td>\n",
       "      <td>2012</td>\n",
       "      <td>0.000000e+00</td>\n",
       "      <td>0.0</td>\n",
       "    </tr>\n",
       "    <tr>\n",
       "      <th>5216</th>\n",
       "      <td>28003</td>\n",
       "      <td>tt0427481</td>\n",
       "      <td>0.073665</td>\n",
       "      <td>0</td>\n",
       "      <td>0</td>\n",
       "      <td>Madea's Class Reunion</td>\n",
       "      <td>Tyler Perry|Chandra Currelley|Cheryl Pepsii Ri...</td>\n",
       "      <td>NaN</td>\n",
       "      <td>Tyler Perry</td>\n",
       "      <td>NaN</td>\n",
       "      <td>...</td>\n",
       "      <td>Madea is traveling to the Pandora Hotel, where...</td>\n",
       "      <td>0</td>\n",
       "      <td>Comedy|Music</td>\n",
       "      <td>NaN</td>\n",
       "      <td>6/25/03</td>\n",
       "      <td>12</td>\n",
       "      <td>6.9</td>\n",
       "      <td>2003</td>\n",
       "      <td>0.000000e+00</td>\n",
       "      <td>0.0</td>\n",
       "    </tr>\n",
       "    <tr>\n",
       "      <th>5695</th>\n",
       "      <td>224815</td>\n",
       "      <td>tt2881698</td>\n",
       "      <td>0.417739</td>\n",
       "      <td>0</td>\n",
       "      <td>0</td>\n",
       "      <td>Skinwalker Ranch</td>\n",
       "      <td>Steve Berg|Kyle Davis|Erin Cahill|Jon Gries|De...</td>\n",
       "      <td>NaN</td>\n",
       "      <td>Devin McGinn</td>\n",
       "      <td>NaN</td>\n",
       "      <td>...</td>\n",
       "      <td>In  2010 â€œSkinwalker Ranchâ€ gained media at...</td>\n",
       "      <td>0</td>\n",
       "      <td>Thriller|Horror|Science Fiction</td>\n",
       "      <td>DeepStudios</td>\n",
       "      <td>10/30/13</td>\n",
       "      <td>27</td>\n",
       "      <td>4.3</td>\n",
       "      <td>2013</td>\n",
       "      <td>0.000000e+00</td>\n",
       "      <td>0.0</td>\n",
       "    </tr>\n",
       "    <tr>\n",
       "      <th>5920</th>\n",
       "      <td>248842</td>\n",
       "      <td>tt2364006</td>\n",
       "      <td>0.165765</td>\n",
       "      <td>0</td>\n",
       "      <td>0</td>\n",
       "      <td>The Food Guide to Love</td>\n",
       "      <td>Richard Coyle|Leonor Watling|GinÃ©s GarcÃ­a Mi...</td>\n",
       "      <td>NaN</td>\n",
       "      <td>Dominic Harari|Teresa Pelegri</td>\n",
       "      <td>NaN</td>\n",
       "      <td>...</td>\n",
       "      <td>A dysfunctional love story about an Irish food...</td>\n",
       "      <td>0</td>\n",
       "      <td>Romance|Comedy</td>\n",
       "      <td>Haut et Court|Parallel Film Productions|Fox In...</td>\n",
       "      <td>12/18/13</td>\n",
       "      <td>12</td>\n",
       "      <td>5.6</td>\n",
       "      <td>2013</td>\n",
       "      <td>0.000000e+00</td>\n",
       "      <td>0.0</td>\n",
       "    </tr>\n",
       "    <tr>\n",
       "      <th>5938</th>\n",
       "      <td>191562</td>\n",
       "      <td>tt2436516</td>\n",
       "      <td>0.147188</td>\n",
       "      <td>0</td>\n",
       "      <td>0</td>\n",
       "      <td>Go Goa Gone</td>\n",
       "      <td>Saif Ali Khan|Anand Tiwari|Vir Das|Pooja Gupta</td>\n",
       "      <td>NaN</td>\n",
       "      <td>Krishna D.K.|Raj Nidimoru</td>\n",
       "      <td>NaN</td>\n",
       "      <td>...</td>\n",
       "      <td>A rave party off the coast of Goa, goes horrif...</td>\n",
       "      <td>0</td>\n",
       "      <td>Comedy|Horror</td>\n",
       "      <td>Eros International</td>\n",
       "      <td>5/10/13</td>\n",
       "      <td>16</td>\n",
       "      <td>5.3</td>\n",
       "      <td>2013</td>\n",
       "      <td>0.000000e+00</td>\n",
       "      <td>0.0</td>\n",
       "    </tr>\n",
       "    <tr>\n",
       "      <th>5992</th>\n",
       "      <td>173847</td>\n",
       "      <td>tt2343371</td>\n",
       "      <td>0.096455</td>\n",
       "      <td>0</td>\n",
       "      <td>0</td>\n",
       "      <td>Amiche da morire</td>\n",
       "      <td>Claudia Gerini|Cristiana Capotondi|Sabrina Imp...</td>\n",
       "      <td>NaN</td>\n",
       "      <td>Giorgia Farina</td>\n",
       "      <td>NaN</td>\n",
       "      <td>...</td>\n",
       "      <td>Three very different women who are hiding a se...</td>\n",
       "      <td>0</td>\n",
       "      <td>Romance|Crime|Comedy</td>\n",
       "      <td>NaN</td>\n",
       "      <td>3/7/13</td>\n",
       "      <td>30</td>\n",
       "      <td>5.5</td>\n",
       "      <td>2013</td>\n",
       "      <td>0.000000e+00</td>\n",
       "      <td>0.0</td>\n",
       "    </tr>\n",
       "    <tr>\n",
       "      <th>6040</th>\n",
       "      <td>202604</td>\n",
       "      <td>tt3043194</td>\n",
       "      <td>0.011798</td>\n",
       "      <td>0</td>\n",
       "      <td>0</td>\n",
       "      <td>The Vatican Exorcisms</td>\n",
       "      <td>Joe Marino</td>\n",
       "      <td>NaN</td>\n",
       "      <td>Joe Marino</td>\n",
       "      <td>The public were never meant to know</td>\n",
       "      <td>...</td>\n",
       "      <td>Documentary following US film-maker Joe Marino...</td>\n",
       "      <td>0</td>\n",
       "      <td>Horror|Documentary|Mystery</td>\n",
       "      <td>NaN</td>\n",
       "      <td>5/29/13</td>\n",
       "      <td>10</td>\n",
       "      <td>4.7</td>\n",
       "      <td>2013</td>\n",
       "      <td>0.000000e+00</td>\n",
       "      <td>0.0</td>\n",
       "    </tr>\n",
       "    <tr>\n",
       "      <th>6383</th>\n",
       "      <td>26985</td>\n",
       "      <td>tt0405615</td>\n",
       "      <td>0.371630</td>\n",
       "      <td>2000000</td>\n",
       "      <td>0</td>\n",
       "      <td>The 12 Dogs of Christmas</td>\n",
       "      <td>Jordan-Claire Green|Tom Kemp|Susan Wood|Adam H...</td>\n",
       "      <td>NaN</td>\n",
       "      <td>Kieth Merrill</td>\n",
       "      <td>NaN</td>\n",
       "      <td>...</td>\n",
       "      <td>This holiday tale has all the elements of a cl...</td>\n",
       "      <td>0</td>\n",
       "      <td>Drama|Family</td>\n",
       "      <td>NaN</td>\n",
       "      <td>11/1/05</td>\n",
       "      <td>11</td>\n",
       "      <td>4.7</td>\n",
       "      <td>2005</td>\n",
       "      <td>2.233127e+06</td>\n",
       "      <td>0.0</td>\n",
       "    </tr>\n",
       "    <tr>\n",
       "      <th>6552</th>\n",
       "      <td>13739</td>\n",
       "      <td>tt0448245</td>\n",
       "      <td>0.006440</td>\n",
       "      <td>0</td>\n",
       "      <td>0</td>\n",
       "      <td>Quatre Ã©toiles</td>\n",
       "      <td>JosÃ© Garcia|Isabelle CarrÃ©|RenÃ©e Le Calm|Fr...</td>\n",
       "      <td>NaN</td>\n",
       "      <td>Christian Vincent</td>\n",
       "      <td>NaN</td>\n",
       "      <td>...</td>\n",
       "      <td>No overview found.</td>\n",
       "      <td>0</td>\n",
       "      <td>Comedy</td>\n",
       "      <td>NaN</td>\n",
       "      <td>1/1/05</td>\n",
       "      <td>15</td>\n",
       "      <td>5.9</td>\n",
       "      <td>2005</td>\n",
       "      <td>0.000000e+00</td>\n",
       "      <td>0.0</td>\n",
       "    </tr>\n",
       "    <tr>\n",
       "      <th>6934</th>\n",
       "      <td>13713</td>\n",
       "      <td>tt0477988</td>\n",
       "      <td>0.071872</td>\n",
       "      <td>0</td>\n",
       "      <td>0</td>\n",
       "      <td>Jean-Philippe</td>\n",
       "      <td>Fabrice Luchini|Johnny Hallyday|Jackie Berroye...</td>\n",
       "      <td>NaN</td>\n",
       "      <td>Laurent Tuel</td>\n",
       "      <td>NaN</td>\n",
       "      <td>...</td>\n",
       "      <td>No overview found.</td>\n",
       "      <td>0</td>\n",
       "      <td>Comedy</td>\n",
       "      <td>FidÃ©litÃ© Productions|StudioCanal|TF1 Films P...</td>\n",
       "      <td>4/5/06</td>\n",
       "      <td>26</td>\n",
       "      <td>5.6</td>\n",
       "      <td>2006</td>\n",
       "      <td>0.000000e+00</td>\n",
       "      <td>0.0</td>\n",
       "    </tr>\n",
       "    <tr>\n",
       "      <th>8874</th>\n",
       "      <td>46406</td>\n",
       "      <td>tt0248185</td>\n",
       "      <td>0.069903</td>\n",
       "      <td>0</td>\n",
       "      <td>0</td>\n",
       "      <td>Mission Kashmir</td>\n",
       "      <td>Sanjay Dutt|Hrithik Roshan|Preity Zinta|Jackie...</td>\n",
       "      <td>NaN</td>\n",
       "      <td>Vidhu Vinod Chopra</td>\n",
       "      <td>NaN</td>\n",
       "      <td>...</td>\n",
       "      <td>A police officer adopts the son and sole survi...</td>\n",
       "      <td>0</td>\n",
       "      <td>Action|Drama|Foreign</td>\n",
       "      <td>NaN</td>\n",
       "      <td>10/27/00</td>\n",
       "      <td>10</td>\n",
       "      <td>5.7</td>\n",
       "      <td>2000</td>\n",
       "      <td>0.000000e+00</td>\n",
       "      <td>0.0</td>\n",
       "    </tr>\n",
       "  </tbody>\n",
       "</table>\n",
       "<p>31 rows × 21 columns</p>\n",
       "</div>"
      ],
      "text/plain": [
       "          id    imdb_id  popularity   budget  revenue  \\\n",
       "92    370687  tt3608646    1.876037        0        0   \n",
       "334   361931  tt5065822    0.357654        0        0   \n",
       "410   339342  tt2948712    0.097514        0        0   \n",
       "445   353345  tt3800796    0.218528        0        0   \n",
       "486   333653  tt4058368    0.176744        0        0   \n",
       "595   341051  tt2914740    0.028725        0        0   \n",
       "616   325843  tt4333210    0.026797        0        0   \n",
       "1241  296370  tt3024964    0.135376        0        0   \n",
       "1289  286372  tt1791681    0.037459  3250000        0   \n",
       "1293  286256  tt3134058    0.036904        0        0   \n",
       "1849   18247  tt1212986    0.120350        0        0   \n",
       "2315   48373  tt1274296    0.171615        0        0   \n",
       "2370  127717  tt1525359    0.081892        0        0   \n",
       "3329   20414  tt1077026    0.082898        0        0   \n",
       "3794   58253  tt1588335    0.183134        0        0   \n",
       "3857  289097  tt1288636    0.095583        0        0   \n",
       "3884  105885  tt1754944    0.045198        0        0   \n",
       "4063   28004  tt0359639    0.371510  6000000        0   \n",
       "4138   44266  tt0242953    0.035895        0        0   \n",
       "4829  110490  tt1910605    0.140016        0        0   \n",
       "4944  158150  tt2395247    0.026459        0        0   \n",
       "5216   28003  tt0427481    0.073665        0        0   \n",
       "5695  224815  tt2881698    0.417739        0        0   \n",
       "5920  248842  tt2364006    0.165765        0        0   \n",
       "5938  191562  tt2436516    0.147188        0        0   \n",
       "5992  173847  tt2343371    0.096455        0        0   \n",
       "6040  202604  tt3043194    0.011798        0        0   \n",
       "6383   26985  tt0405615    0.371630  2000000        0   \n",
       "6552   13739  tt0448245    0.006440        0        0   \n",
       "6934   13713  tt0477988    0.071872        0        0   \n",
       "8874   46406  tt0248185    0.069903        0        0   \n",
       "\n",
       "                     original_title  \\\n",
       "92         Mythica: The Necromancer   \n",
       "334                         Ronaldo   \n",
       "410                  Anarchy Parlor   \n",
       "445   The Exorcism of Molly Hartley   \n",
       "486              If There Be Thorns   \n",
       "595                       Deep Dark   \n",
       "616                    The Outfield   \n",
       "1241                      Dance-Off   \n",
       "1289                      Treehouse   \n",
       "1293                       Tim Maia   \n",
       "1849                   Spectacular!   \n",
       "2315           Listen to Your Heart   \n",
       "2370                Freshman Father   \n",
       "3329       Grande, grosso e Verdone   \n",
       "3794           Toi, moi, les autres   \n",
       "3857                       Cell 213   \n",
       "3884                         eCupid   \n",
       "4063         Madea's Family Reunion   \n",
       "4138             A Time for Dancing   \n",
       "4829                           Rags   \n",
       "4944            How to Fall in Love   \n",
       "5216          Madea's Class Reunion   \n",
       "5695               Skinwalker Ranch   \n",
       "5920         The Food Guide to Love   \n",
       "5938                    Go Goa Gone   \n",
       "5992               Amiche da morire   \n",
       "6040          The Vatican Exorcisms   \n",
       "6383       The 12 Dogs of Christmas   \n",
       "6552                Quatre Ã©toiles   \n",
       "6934                  Jean-Philippe   \n",
       "8874                Mission Kashmir   \n",
       "\n",
       "                                                   cast  \\\n",
       "92    Melanie Stone|Adam Johnson|Kevin Sorbo|Nicola ...   \n",
       "334                                   Cristiano Ronaldo   \n",
       "410   Robert LaSardo|Jordan James Smith|Sara Fabel|T...   \n",
       "445   Sarah Lind|Devon Sawa|Gina Holden|Peter MacNei...   \n",
       "486   Heather Graham|Jason Lewis|Rachael Carpani|Mas...   \n",
       "595   Sean McGrath|Denise Poirier|Anne Sorce|Tabor H...   \n",
       "616   Cameron Dallas|Hamilton Nash Grier|Olivia Stuc...   \n",
       "1241  Kathryn McCormick|Shane Harper|Finola Hughes|C...   \n",
       "1289  J. Michael Trautmann|Dana Melanie|Daniel Fredr...   \n",
       "1293  Robson Nunes|BabÃº Santana|Alinne Moraes|CauÃ£...   \n",
       "1849  Nolan Gerard Funk|Jesse Moss|Britt Irvin|Tammi...   \n",
       "2315  Alexia Rasmussen|Kent Moran|Cybill Shepherd|Sh...   \n",
       "2370  Britt Irvin|Merrilyn Gann|Barbara Tyson|Anthon...   \n",
       "3329  Carlo Verdone|Claudia Gerini|Eva Riccobono|Vit...   \n",
       "3794  LeÃ¯la Bekhti|Benjamin Siksou|CÃ©cile Cassel|C...   \n",
       "3857  Bruce Greenwood|Eric Balfour|Michael Rooker|De...   \n",
       "3884  Houston Rhines|Andy Anderson|John Callahan|Gal...   \n",
       "4063  Tyler Perry|Blair Underwood|Lynn Whitfield|Bor...   \n",
       "4138  Larisa Oleynik|Shiri Appleby|Peter Coyote|Patr...   \n",
       "4829  Keke Palmer|Avan Jogia|Drake Bell|Burkely Duff...   \n",
       "4944  Brooke D'Orsay|Eric Mabius|Jody Thompson|Gina ...   \n",
       "5216  Tyler Perry|Chandra Currelley|Cheryl Pepsii Ri...   \n",
       "5695  Steve Berg|Kyle Davis|Erin Cahill|Jon Gries|De...   \n",
       "5920  Richard Coyle|Leonor Watling|GinÃ©s GarcÃ­a Mi...   \n",
       "5938     Saif Ali Khan|Anand Tiwari|Vir Das|Pooja Gupta   \n",
       "5992  Claudia Gerini|Cristiana Capotondi|Sabrina Imp...   \n",
       "6040                                         Joe Marino   \n",
       "6383  Jordan-Claire Green|Tom Kemp|Susan Wood|Adam H...   \n",
       "6552  JosÃ© Garcia|Isabelle CarrÃ©|RenÃ©e Le Calm|Fr...   \n",
       "6934  Fabrice Luchini|Johnny Hallyday|Jackie Berroye...   \n",
       "8874  Sanjay Dutt|Hrithik Roshan|Preity Zinta|Jackie...   \n",
       "\n",
       "                                               homepage  \\\n",
       "92            http://www.mythicamovie.com/#!blank/y9ake   \n",
       "334                       http://www.ronaldothefilm.com   \n",
       "410                                                 NaN   \n",
       "445                                                 NaN   \n",
       "486                                                 NaN   \n",
       "595                            http://deepdarkmovie.com   \n",
       "616                                                 NaN   \n",
       "1241                                                NaN   \n",
       "1289               http://www.imdb.com/title/tt1791681/   \n",
       "1293                                                NaN   \n",
       "1849                                                NaN   \n",
       "2315              http://www.listentoyourheartfilm.com/   \n",
       "2370                                                NaN   \n",
       "3329                                                NaN   \n",
       "3794  http://www.google.fr/m/url?ei=e3BxTcjeLMqB8wP6...   \n",
       "3857                                                NaN   \n",
       "3884                                                NaN   \n",
       "4063                                                NaN   \n",
       "4138                                                NaN   \n",
       "4829                                                NaN   \n",
       "4944                                                NaN   \n",
       "5216                                                NaN   \n",
       "5695                                                NaN   \n",
       "5920                                                NaN   \n",
       "5938                                                NaN   \n",
       "5992                                                NaN   \n",
       "6040                                                NaN   \n",
       "6383                                                NaN   \n",
       "6552                                                NaN   \n",
       "6934                                                NaN   \n",
       "8874                                                NaN   \n",
       "\n",
       "                           director                              tagline  ...  \\\n",
       "92                    A. Todd Smith                                  NaN  ...   \n",
       "334                   Anthony Wonke   Astonishing. Intimate. Definitive.  ...   \n",
       "410          Kenny Gage|Devon Downs                                  NaN  ...   \n",
       "445                Steven R. Monroe                                  NaN  ...   \n",
       "486                    Nancy Savoca                                  NaN  ...   \n",
       "595                Michael Medaglia                                  NaN  ...   \n",
       "616                Michael Goldfine                                  NaN  ...   \n",
       "1241                            NaN                                  NaN  ...   \n",
       "1289            Michael G. Bartlett                      No kids allowed  ...   \n",
       "1293                     Mauro Lima         Original language PORTUGUESE  ...   \n",
       "1849                  Robert Iscove                                  NaN  ...   \n",
       "2315                            NaN       One song can change your life.  ...   \n",
       "2370                  Michael Scott                                  NaN  ...   \n",
       "3329                  Carlo Verdone                                  NaN  ...   \n",
       "3794                Audrey Estrougo                                  NaN  ...   \n",
       "3857                    Stephen Kay                                  NaN  ...   \n",
       "3884                  J.C. Calciano                                  NaN  ...   \n",
       "4063                    Tyler Perry                                  NaN  ...   \n",
       "4138                  Peter Gilbert                                  NaN  ...   \n",
       "4829                 Bille Woodruff                                  NaN  ...   \n",
       "4944                 Mark Griffiths                                  NaN  ...   \n",
       "5216                    Tyler Perry                                  NaN  ...   \n",
       "5695                   Devin McGinn                                  NaN  ...   \n",
       "5920  Dominic Harari|Teresa Pelegri                                  NaN  ...   \n",
       "5938      Krishna D.K.|Raj Nidimoru                                  NaN  ...   \n",
       "5992                 Giorgia Farina                                  NaN  ...   \n",
       "6040                     Joe Marino  The public were never meant to know  ...   \n",
       "6383                  Kieth Merrill                                  NaN  ...   \n",
       "6552              Christian Vincent                                  NaN  ...   \n",
       "6934                   Laurent Tuel                                  NaN  ...   \n",
       "8874             Vidhu Vinod Chopra                                  NaN  ...   \n",
       "\n",
       "                                               overview runtime  \\\n",
       "92    Mallister takes Thane prisoner and forces Mare...       0   \n",
       "334   Filmed over 14 months with unprecedented acces...       0   \n",
       "410   Six young college hopefuls vacationing and par...       0   \n",
       "445   Taking place years after The Haunting of Molly...       0   \n",
       "486   The third installment in V.C. Andrewsâ€™ bests...       0   \n",
       "595   Fantasy - A failed sculptor discovers a strang...       0   \n",
       "616   The film follows a trio of varsity baseball pl...       0   \n",
       "1241  DANCE-OFF is a tongue-in-cheek family comedy s...       0   \n",
       "1289  A teenage boy discovers the perpetrators of se...       0   \n",
       "1293  Biopic of Brazilian singer Tim Maia, from his ...       0   \n",
       "1849  A high school choir is fading in popularity, a...       0   \n",
       "2315  Danny Foster doesn't have much: an apartment a...       0   \n",
       "2370                                                NaN       0   \n",
       "3329                                 No overview found.       0   \n",
       "3794                                                NaN       0   \n",
       "3857  Cocky young attorney Michael Gray finds himsel...       0   \n",
       "3884  From the director of Is It Just Me? comes this...       0   \n",
       "4063  Just as the southern matriarch, Madea buries h...       0   \n",
       "4138  Their love of dance, and their friendship, is ...       0   \n",
       "4829  Rags follows the story of Charlie Prince, an o...       0   \n",
       "4944  An accountant, who never quite grew out of his...       0   \n",
       "5216  Madea is traveling to the Pandora Hotel, where...       0   \n",
       "5695  In  2010 â€œSkinwalker Ranchâ€ gained media at...       0   \n",
       "5920  A dysfunctional love story about an Irish food...       0   \n",
       "5938  A rave party off the coast of Goa, goes horrif...       0   \n",
       "5992  Three very different women who are hiding a se...       0   \n",
       "6040  Documentary following US film-maker Joe Marino...       0   \n",
       "6383  This holiday tale has all the elements of a cl...       0   \n",
       "6552                                 No overview found.       0   \n",
       "6934                                 No overview found.       0   \n",
       "8874  A police officer adopts the son and sole survi...       0   \n",
       "\n",
       "                               genres  \\\n",
       "92           Fantasy|Action|Adventure   \n",
       "334                       Documentary   \n",
       "410                            Horror   \n",
       "445                            Horror   \n",
       "486                    TV Movie|Drama   \n",
       "595                            Horror   \n",
       "616                      Drama|Comedy   \n",
       "1241             Romance|Music|Comedy   \n",
       "1289          Thriller|Horror|Mystery   \n",
       "1293          Documentary|Drama|Music   \n",
       "1849                      Drama|Music   \n",
       "2315              Drama|Music|Romance   \n",
       "2370                              NaN   \n",
       "3329                           Family   \n",
       "3794                    Music|Romance   \n",
       "3857                           Horror   \n",
       "3884                          Romance   \n",
       "4063                           Comedy   \n",
       "4138                      Drama|Music   \n",
       "4829            TV Movie|Comedy|Drama   \n",
       "4944          Comedy|Romance|TV Movie   \n",
       "5216                     Comedy|Music   \n",
       "5695  Thriller|Horror|Science Fiction   \n",
       "5920                   Romance|Comedy   \n",
       "5938                    Comedy|Horror   \n",
       "5992             Romance|Crime|Comedy   \n",
       "6040       Horror|Documentary|Mystery   \n",
       "6383                     Drama|Family   \n",
       "6552                           Comedy   \n",
       "6934                           Comedy   \n",
       "8874             Action|Drama|Foreign   \n",
       "\n",
       "                                   production_companies release_date  \\\n",
       "92    Arrowstorm Entertainment|Camera 40 Productions...     12/19/15   \n",
       "334   On The Corner Films|We Came, We Saw, We Conque...      11/9/15   \n",
       "410                                                 NaN       1/1/15   \n",
       "445                               WT Canada Productions      10/9/15   \n",
       "486                 A+E Studios|Jane Startz Productions       4/5/15   \n",
       "595                                                 NaN       1/1/15   \n",
       "616                                                 NaN     11/10/15   \n",
       "1241                                                NaN       1/1/14   \n",
       "1289                                      Tiberius Film     10/20/14   \n",
       "1293                                       Globo Filmes     10/30/14   \n",
       "1849                                                NaN      2/16/09   \n",
       "2315                                                NaN      8/14/10   \n",
       "2370                                                NaN       6/5/10   \n",
       "3329                                           Filmauro       3/7/08   \n",
       "3794                                                NaN      2/22/11   \n",
       "3857                             Access Motion Pictures      6/10/11   \n",
       "3884                                                NaN      6/23/11   \n",
       "4063                                                NaN      1/25/02   \n",
       "4138                                                NaN       9/6/02   \n",
       "4829                                                NaN      5/28/12   \n",
       "4944  Annuit Coeptis Entertainment Inc.|Annuit Coept...      7/21/12   \n",
       "5216                                                NaN      6/25/03   \n",
       "5695                                        DeepStudios     10/30/13   \n",
       "5920  Haut et Court|Parallel Film Productions|Fox In...     12/18/13   \n",
       "5938                                 Eros International      5/10/13   \n",
       "5992                                                NaN       3/7/13   \n",
       "6040                                                NaN      5/29/13   \n",
       "6383                                                NaN      11/1/05   \n",
       "6552                                                NaN       1/1/05   \n",
       "6934  FidÃ©litÃ© Productions|StudioCanal|TF1 Films P...       4/5/06   \n",
       "8874                                                NaN     10/27/00   \n",
       "\n",
       "     vote_count  vote_average  release_year    budget_adj  revenue_adj  \n",
       "92           11           5.4          2015  0.000000e+00          0.0  \n",
       "334          80           6.5          2015  0.000000e+00          0.0  \n",
       "410          15           5.6          2015  0.000000e+00          0.0  \n",
       "445          52           5.0          2015  0.000000e+00          0.0  \n",
       "486          11           5.4          2015  0.000000e+00          0.0  \n",
       "595          11           4.6          2015  0.000000e+00          0.0  \n",
       "616          20           6.6          2015  0.000000e+00          0.0  \n",
       "1241         18           5.7          2014  0.000000e+00          0.0  \n",
       "1289         16           3.4          2014  2.993546e+06          0.0  \n",
       "1293         14           6.0          2014  0.000000e+00          0.0  \n",
       "1849         13           5.2          2009  0.000000e+00          0.0  \n",
       "2315         29           7.3          2010  0.000000e+00          0.0  \n",
       "2370         12           5.8          2010  0.000000e+00          0.0  \n",
       "3329         35           5.3          2008  0.000000e+00          0.0  \n",
       "3794         17           5.2          2011  0.000000e+00          0.0  \n",
       "3857         13           5.2          2011  0.000000e+00          0.0  \n",
       "3884         12           4.6          2011  0.000000e+00          0.0  \n",
       "4063         49           5.9          2002  7.273568e+06          0.0  \n",
       "4138         14           7.5          2002  0.000000e+00          0.0  \n",
       "4829         24           5.7          2012  0.000000e+00          0.0  \n",
       "4944         11           4.7          2012  0.000000e+00          0.0  \n",
       "5216         12           6.9          2003  0.000000e+00          0.0  \n",
       "5695         27           4.3          2013  0.000000e+00          0.0  \n",
       "5920         12           5.6          2013  0.000000e+00          0.0  \n",
       "5938         16           5.3          2013  0.000000e+00          0.0  \n",
       "5992         30           5.5          2013  0.000000e+00          0.0  \n",
       "6040         10           4.7          2013  0.000000e+00          0.0  \n",
       "6383         11           4.7          2005  2.233127e+06          0.0  \n",
       "6552         15           5.9          2005  0.000000e+00          0.0  \n",
       "6934         26           5.6          2006  0.000000e+00          0.0  \n",
       "8874         10           5.7          2000  0.000000e+00          0.0  \n",
       "\n",
       "[31 rows x 21 columns]"
      ]
     },
     "execution_count": 9,
     "metadata": {},
     "output_type": "execute_result"
    }
   ],
   "source": [
    "# The rows with 0-values in a small table were printed out in a small table\n",
    "df[df.runtime == 0]"
   ]
  },
  {
   "cell_type": "markdown",
   "metadata": {
    "id": "2_xof7t8c26C"
   },
   "source": [
    "In the cell below i wanted to see the shape of my dataset to find out how many columns and rows there are"
   ]
  },
  {
   "cell_type": "code",
   "execution_count": 10,
   "metadata": {
    "colab": {
     "base_uri": "https://localhost:8080/"
    },
    "id": "M5wPZe4Xc26C",
    "outputId": "5a37d0cb-c043-48ef-819b-14381c99b48b"
   },
   "outputs": [
    {
     "data": {
      "text/plain": [
       "(10866, 21)"
      ]
     },
     "execution_count": 10,
     "metadata": {},
     "output_type": "execute_result"
    }
   ],
   "source": [
    "# Got the shape of my data set \n",
    "df.shape"
   ]
  },
  {
   "cell_type": "markdown",
   "metadata": {
    "id": "iXYi9bGJc26E"
   },
   "source": [
    "In the cell below i wanted to see the data types present and if there are any initial indications of missing data"
   ]
  },
  {
   "cell_type": "code",
   "execution_count": 11,
   "metadata": {
    "colab": {
     "base_uri": "https://localhost:8080/"
    },
    "id": "s6AXZlxFc26E",
    "outputId": "0d308e2d-02ce-4b69-9af3-16059b9578f5"
   },
   "outputs": [
    {
     "name": "stdout",
     "output_type": "stream",
     "text": [
      "<class 'pandas.core.frame.DataFrame'>\n",
      "RangeIndex: 10866 entries, 0 to 10865\n",
      "Data columns (total 21 columns):\n",
      "id                      10866 non-null int64\n",
      "imdb_id                 10856 non-null object\n",
      "popularity              10866 non-null float64\n",
      "budget                  10866 non-null int64\n",
      "revenue                 10866 non-null int64\n",
      "original_title          10866 non-null object\n",
      "cast                    10790 non-null object\n",
      "homepage                2936 non-null object\n",
      "director                10822 non-null object\n",
      "tagline                 8042 non-null object\n",
      "keywords                9373 non-null object\n",
      "overview                10862 non-null object\n",
      "runtime                 10866 non-null int64\n",
      "genres                  10843 non-null object\n",
      "production_companies    9836 non-null object\n",
      "release_date            10866 non-null object\n",
      "vote_count              10866 non-null int64\n",
      "vote_average            10866 non-null float64\n",
      "release_year            10866 non-null int64\n",
      "budget_adj              10866 non-null float64\n",
      "revenue_adj             10866 non-null float64\n",
      "dtypes: float64(4), int64(6), object(11)\n",
      "memory usage: 1.7+ MB\n"
     ]
    }
   ],
   "source": [
    "# Got more detailed inormation on my dataset\n",
    "df.info()"
   ]
  },
  {
   "cell_type": "markdown",
   "metadata": {
    "id": "0LHgwfkmc26F"
   },
   "source": [
    "Seeing from df.info in the previous cell that there some missing data, i gathered the total number of missing values in the various columns"
   ]
  },
  {
   "cell_type": "code",
   "execution_count": 12,
   "metadata": {
    "colab": {
     "base_uri": "https://localhost:8080/"
    },
    "id": "rAfWJwDNc26G",
    "outputId": "2f06a469-bd23-4f14-d16b-420df27a3f94"
   },
   "outputs": [
    {
     "data": {
      "text/plain": [
       "id                         0\n",
       "imdb_id                   10\n",
       "popularity                 0\n",
       "budget                     0\n",
       "revenue                    0\n",
       "original_title             0\n",
       "cast                      76\n",
       "homepage                7930\n",
       "director                  44\n",
       "tagline                 2824\n",
       "keywords                1493\n",
       "overview                   4\n",
       "runtime                    0\n",
       "genres                    23\n",
       "production_companies    1030\n",
       "release_date               0\n",
       "vote_count                 0\n",
       "vote_average               0\n",
       "release_year               0\n",
       "budget_adj                 0\n",
       "revenue_adj                0\n",
       "dtype: int64"
      ]
     },
     "execution_count": 12,
     "metadata": {},
     "output_type": "execute_result"
    }
   ],
   "source": [
    "# Got the sum of all missing values\n",
    "df.isnull().sum()"
   ]
  },
  {
   "cell_type": "markdown",
   "metadata": {
    "id": "TlayZ3Hcc26H"
   },
   "source": [
    "## Data Cleaning"
   ]
  },
  {
   "cell_type": "markdown",
   "metadata": {
    "id": "fZX-QV5mc26I"
   },
   "source": [
    "In the cell below i began by dropping columns i found to be unnecessary from an initial view of the data set, then i examined the first few rows of the data without the presence of these coluumns"
   ]
  },
  {
   "cell_type": "code",
   "execution_count": 13,
   "metadata": {
    "colab": {
     "base_uri": "https://localhost:8080/",
     "height": 548
    },
    "id": "tpePylYXc26I",
    "outputId": "8b76f38c-d1c6-430b-9364-499b894dd17f"
   },
   "outputs": [
    {
     "data": {
      "text/html": [
       "<div>\n",
       "<style scoped>\n",
       "    .dataframe tbody tr th:only-of-type {\n",
       "        vertical-align: middle;\n",
       "    }\n",
       "\n",
       "    .dataframe tbody tr th {\n",
       "        vertical-align: top;\n",
       "    }\n",
       "\n",
       "    .dataframe thead th {\n",
       "        text-align: right;\n",
       "    }\n",
       "</style>\n",
       "<table border=\"1\" class=\"dataframe\">\n",
       "  <thead>\n",
       "    <tr style=\"text-align: right;\">\n",
       "      <th></th>\n",
       "      <th>popularity</th>\n",
       "      <th>budget</th>\n",
       "      <th>revenue</th>\n",
       "      <th>original_title</th>\n",
       "      <th>cast</th>\n",
       "      <th>keywords</th>\n",
       "      <th>runtime</th>\n",
       "      <th>genres</th>\n",
       "      <th>release_date</th>\n",
       "      <th>vote_count</th>\n",
       "      <th>vote_average</th>\n",
       "      <th>release_year</th>\n",
       "    </tr>\n",
       "  </thead>\n",
       "  <tbody>\n",
       "    <tr>\n",
       "      <th>0</th>\n",
       "      <td>32.985763</td>\n",
       "      <td>150000000</td>\n",
       "      <td>1513528810</td>\n",
       "      <td>Jurassic World</td>\n",
       "      <td>Chris Pratt|Bryce Dallas Howard|Irrfan Khan|Vi...</td>\n",
       "      <td>monster|dna|tyrannosaurus rex|velociraptor|island</td>\n",
       "      <td>124</td>\n",
       "      <td>Action|Adventure|Science Fiction|Thriller</td>\n",
       "      <td>6/9/15</td>\n",
       "      <td>5562</td>\n",
       "      <td>6.5</td>\n",
       "      <td>2015</td>\n",
       "    </tr>\n",
       "    <tr>\n",
       "      <th>1</th>\n",
       "      <td>28.419936</td>\n",
       "      <td>150000000</td>\n",
       "      <td>378436354</td>\n",
       "      <td>Mad Max: Fury Road</td>\n",
       "      <td>Tom Hardy|Charlize Theron|Hugh Keays-Byrne|Nic...</td>\n",
       "      <td>future|chase|post-apocalyptic|dystopia|australia</td>\n",
       "      <td>120</td>\n",
       "      <td>Action|Adventure|Science Fiction|Thriller</td>\n",
       "      <td>5/13/15</td>\n",
       "      <td>6185</td>\n",
       "      <td>7.1</td>\n",
       "      <td>2015</td>\n",
       "    </tr>\n",
       "    <tr>\n",
       "      <th>2</th>\n",
       "      <td>13.112507</td>\n",
       "      <td>110000000</td>\n",
       "      <td>295238201</td>\n",
       "      <td>Insurgent</td>\n",
       "      <td>Shailene Woodley|Theo James|Kate Winslet|Ansel...</td>\n",
       "      <td>based on novel|revolution|dystopia|sequel|dyst...</td>\n",
       "      <td>119</td>\n",
       "      <td>Adventure|Science Fiction|Thriller</td>\n",
       "      <td>3/18/15</td>\n",
       "      <td>2480</td>\n",
       "      <td>6.3</td>\n",
       "      <td>2015</td>\n",
       "    </tr>\n",
       "    <tr>\n",
       "      <th>3</th>\n",
       "      <td>11.173104</td>\n",
       "      <td>200000000</td>\n",
       "      <td>2068178225</td>\n",
       "      <td>Star Wars: The Force Awakens</td>\n",
       "      <td>Harrison Ford|Mark Hamill|Carrie Fisher|Adam D...</td>\n",
       "      <td>android|spaceship|jedi|space opera|3d</td>\n",
       "      <td>136</td>\n",
       "      <td>Action|Adventure|Science Fiction|Fantasy</td>\n",
       "      <td>12/15/15</td>\n",
       "      <td>5292</td>\n",
       "      <td>7.5</td>\n",
       "      <td>2015</td>\n",
       "    </tr>\n",
       "    <tr>\n",
       "      <th>4</th>\n",
       "      <td>9.335014</td>\n",
       "      <td>190000000</td>\n",
       "      <td>1506249360</td>\n",
       "      <td>Furious 7</td>\n",
       "      <td>Vin Diesel|Paul Walker|Jason Statham|Michelle ...</td>\n",
       "      <td>car race|speed|revenge|suspense|car</td>\n",
       "      <td>137</td>\n",
       "      <td>Action|Crime|Thriller</td>\n",
       "      <td>4/1/15</td>\n",
       "      <td>2947</td>\n",
       "      <td>7.3</td>\n",
       "      <td>2015</td>\n",
       "    </tr>\n",
       "  </tbody>\n",
       "</table>\n",
       "</div>"
      ],
      "text/plain": [
       "   popularity     budget     revenue                original_title  \\\n",
       "0   32.985763  150000000  1513528810                Jurassic World   \n",
       "1   28.419936  150000000   378436354            Mad Max: Fury Road   \n",
       "2   13.112507  110000000   295238201                     Insurgent   \n",
       "3   11.173104  200000000  2068178225  Star Wars: The Force Awakens   \n",
       "4    9.335014  190000000  1506249360                     Furious 7   \n",
       "\n",
       "                                                cast  \\\n",
       "0  Chris Pratt|Bryce Dallas Howard|Irrfan Khan|Vi...   \n",
       "1  Tom Hardy|Charlize Theron|Hugh Keays-Byrne|Nic...   \n",
       "2  Shailene Woodley|Theo James|Kate Winslet|Ansel...   \n",
       "3  Harrison Ford|Mark Hamill|Carrie Fisher|Adam D...   \n",
       "4  Vin Diesel|Paul Walker|Jason Statham|Michelle ...   \n",
       "\n",
       "                                            keywords  runtime  \\\n",
       "0  monster|dna|tyrannosaurus rex|velociraptor|island      124   \n",
       "1   future|chase|post-apocalyptic|dystopia|australia      120   \n",
       "2  based on novel|revolution|dystopia|sequel|dyst...      119   \n",
       "3              android|spaceship|jedi|space opera|3d      136   \n",
       "4                car race|speed|revenge|suspense|car      137   \n",
       "\n",
       "                                      genres release_date  vote_count  \\\n",
       "0  Action|Adventure|Science Fiction|Thriller       6/9/15        5562   \n",
       "1  Action|Adventure|Science Fiction|Thriller      5/13/15        6185   \n",
       "2         Adventure|Science Fiction|Thriller      3/18/15        2480   \n",
       "3   Action|Adventure|Science Fiction|Fantasy     12/15/15        5292   \n",
       "4                      Action|Crime|Thriller       4/1/15        2947   \n",
       "\n",
       "   vote_average  release_year  \n",
       "0           6.5          2015  \n",
       "1           7.1          2015  \n",
       "2           6.3          2015  \n",
       "3           7.5          2015  \n",
       "4           7.3          2015  "
      ]
     },
     "execution_count": 13,
     "metadata": {},
     "output_type": "execute_result"
    }
   ],
   "source": [
    "# Unnecessary columns were dropped\n",
    "df.drop(['id', 'imdb_id', 'homepage', 'director', 'tagline', 'overview', 'production_companies', 'budget_adj', 'revenue_adj'], axis=1, inplace=True)\n",
    "# Got the first few rows after removal of the columns\n",
    "df.head()"
   ]
  },
  {
   "cell_type": "markdown",
   "metadata": {
    "id": "OSgfLX-3c26K"
   },
   "source": [
    "After my first step in cleaning the data, i removed all the rows with missing values for me to be able to perform my anaylsis later on. Then i checked the info again to see how much of the data was removed."
   ]
  },
  {
   "cell_type": "code",
   "execution_count": 14,
   "metadata": {
    "colab": {
     "base_uri": "https://localhost:8080/"
    },
    "id": "JavHfBG2c26M",
    "outputId": "e74c52a1-f1ea-4e05-c408-54f3c7890ffc"
   },
   "outputs": [
    {
     "name": "stdout",
     "output_type": "stream",
     "text": [
      "<class 'pandas.core.frame.DataFrame'>\n",
      "Int64Index: 9323 entries, 0 to 10865\n",
      "Data columns (total 12 columns):\n",
      "popularity        9323 non-null float64\n",
      "budget            9323 non-null int64\n",
      "revenue           9323 non-null int64\n",
      "original_title    9323 non-null object\n",
      "cast              9323 non-null object\n",
      "keywords          9323 non-null object\n",
      "runtime           9323 non-null int64\n",
      "genres            9323 non-null object\n",
      "release_date      9323 non-null object\n",
      "vote_count        9323 non-null int64\n",
      "vote_average      9323 non-null float64\n",
      "release_year      9323 non-null int64\n",
      "dtypes: float64(2), int64(5), object(5)\n",
      "memory usage: 946.9+ KB\n"
     ]
    }
   ],
   "source": [
    "# Missing values were dropped from the data set\n",
    "df.dropna(inplace=True)\n",
    "# Got the information to check if removal was successful\n",
    "df.info()"
   ]
  },
  {
   "cell_type": "markdown",
   "metadata": {
    "id": "MB69DKst-gZb"
   },
   "source": [
    "In the cell below i printed out the length of the data set before removing the 0 values"
   ]
  },
  {
   "cell_type": "code",
   "execution_count": 15,
   "metadata": {
    "colab": {
     "base_uri": "https://localhost:8080/"
    },
    "id": "8rGzxcNBc26N",
    "outputId": "d60e2281-54bf-4f49-e98f-260fc1e6e40c"
   },
   "outputs": [
    {
     "name": "stdout",
     "output_type": "stream",
     "text": [
      "9323\n"
     ]
    }
   ],
   "source": [
    "# Length of data set was printed before removing the 0 values\n",
    "print(len(df))"
   ]
  },
  {
   "cell_type": "markdown",
   "metadata": {
    "id": "UcjGhhm7c26N"
   },
   "source": [
    "In the cell below I made a function to check the length of the data before removing the 0 values. Where I put in the 3 columns with 0 values present: runtime, budget, and revenue. Right after doing that, i removed the 0 values and checked again the length of data after removal."
   ]
  },
  {
   "cell_type": "code",
   "execution_count": 21,
   "metadata": {
    "id": "cDMj9Sw_4is2"
   },
   "outputs": [],
   "source": [
    "# A function was made to remove the 0 values in the data set.\n",
    "def zer():\n",
    "  ''' The function named \"zer\" removes the 0 values in a neatly fashion\n",
    "  the global df is brought into the function in order to edit the values inplace\n",
    "  x: contains all the columns with 0 values under the local variable x\n",
    "  a for loop is placed inside the formula to remove the 0 in each column inputed\n",
    "  This is a void function therefore a \"return\" is not needed at the end '''\n",
    "  global df\n",
    "  x=['budget','revenue','runtime']\n",
    "  for n in range(len(x)):\n",
    "    df = df[df[x[n]] != 0]\n",
    "  print('0s are removed')"
   ]
  },
  {
   "cell_type": "markdown",
   "metadata": {
    "id": "05X_mudW-ARN"
   },
   "source": [
    "In the cell below i called my function to see if the changes were made. Changes being removing the 0 values"
   ]
  },
  {
   "cell_type": "code",
   "execution_count": 22,
   "metadata": {
    "colab": {
     "base_uri": "https://localhost:8080/"
    },
    "id": "yFV8GlfbyODS",
    "outputId": "95dfacc9-d1b9-4ba8-a2e2-a497fedd123c"
   },
   "outputs": [
    {
     "name": "stdout",
     "output_type": "stream",
     "text": [
      "0s are removed\n"
     ]
    }
   ],
   "source": [
    "# Got length of data set after removing 0 values\n",
    "zer()"
   ]
  },
  {
   "cell_type": "markdown",
   "metadata": {
    "id": "8LpHmTyVc26O"
   },
   "source": [
    "Then in the following cell i checked again the last few rows which showed some of the 0 values to double check if they are gone"
   ]
  },
  {
   "cell_type": "code",
   "execution_count": 23,
   "metadata": {
    "colab": {
     "base_uri": "https://localhost:8080/",
     "height": 496
    },
    "id": "1crtxZ9Kc26P",
    "outputId": "52c4d56a-cb9f-411d-fe4a-f07030cfd28a"
   },
   "outputs": [
    {
     "data": {
      "text/html": [
       "<div>\n",
       "<style scoped>\n",
       "    .dataframe tbody tr th:only-of-type {\n",
       "        vertical-align: middle;\n",
       "    }\n",
       "\n",
       "    .dataframe tbody tr th {\n",
       "        vertical-align: top;\n",
       "    }\n",
       "\n",
       "    .dataframe thead th {\n",
       "        text-align: right;\n",
       "    }\n",
       "</style>\n",
       "<table border=\"1\" class=\"dataframe\">\n",
       "  <thead>\n",
       "    <tr style=\"text-align: right;\">\n",
       "      <th></th>\n",
       "      <th>popularity</th>\n",
       "      <th>budget</th>\n",
       "      <th>revenue</th>\n",
       "      <th>original_title</th>\n",
       "      <th>cast</th>\n",
       "      <th>keywords</th>\n",
       "      <th>runtime</th>\n",
       "      <th>genres</th>\n",
       "      <th>release_date</th>\n",
       "      <th>vote_count</th>\n",
       "      <th>vote_average</th>\n",
       "      <th>release_year</th>\n",
       "    </tr>\n",
       "  </thead>\n",
       "  <tbody>\n",
       "    <tr>\n",
       "      <th>10822</th>\n",
       "      <td>0.670274</td>\n",
       "      <td>7500000</td>\n",
       "      <td>33736689</td>\n",
       "      <td>Who's Afraid of Virginia Woolf?</td>\n",
       "      <td>Elizabeth Taylor|Richard Burton|George Segal|S...</td>\n",
       "      <td>alcohol|adultery|professor|married couple|son</td>\n",
       "      <td>131</td>\n",
       "      <td>Drama</td>\n",
       "      <td>6/21/66</td>\n",
       "      <td>74</td>\n",
       "      <td>7.5</td>\n",
       "      <td>1966</td>\n",
       "    </tr>\n",
       "    <tr>\n",
       "      <th>10828</th>\n",
       "      <td>0.402730</td>\n",
       "      <td>3000000</td>\n",
       "      <td>13000000</td>\n",
       "      <td>Torn Curtain</td>\n",
       "      <td>Paul Newman|Julie Andrews|Lila Kedrova|HansjÃ¶...</td>\n",
       "      <td>cold war|east germany</td>\n",
       "      <td>128</td>\n",
       "      <td>Mystery|Thriller</td>\n",
       "      <td>7/13/66</td>\n",
       "      <td>46</td>\n",
       "      <td>6.3</td>\n",
       "      <td>1966</td>\n",
       "    </tr>\n",
       "    <tr>\n",
       "      <th>10829</th>\n",
       "      <td>0.395668</td>\n",
       "      <td>4653000</td>\n",
       "      <td>6000000</td>\n",
       "      <td>El Dorado</td>\n",
       "      <td>John Wayne|Robert Mitchum|James Caan|Charlene ...</td>\n",
       "      <td>sheriff|ranch|liquor|settler|revolver</td>\n",
       "      <td>120</td>\n",
       "      <td>Action|Western</td>\n",
       "      <td>12/17/66</td>\n",
       "      <td>36</td>\n",
       "      <td>6.9</td>\n",
       "      <td>1966</td>\n",
       "    </tr>\n",
       "    <tr>\n",
       "      <th>10835</th>\n",
       "      <td>0.299911</td>\n",
       "      <td>12000000</td>\n",
       "      <td>20000000</td>\n",
       "      <td>The Sand Pebbles</td>\n",
       "      <td>Steve McQueen|Richard Attenborough|Richard Cre...</td>\n",
       "      <td>missionary|china|us navy|chinese|battle</td>\n",
       "      <td>182</td>\n",
       "      <td>Action|Adventure|Drama|War|Romance</td>\n",
       "      <td>12/20/66</td>\n",
       "      <td>28</td>\n",
       "      <td>7.0</td>\n",
       "      <td>1966</td>\n",
       "    </tr>\n",
       "    <tr>\n",
       "      <th>10848</th>\n",
       "      <td>0.207257</td>\n",
       "      <td>5115000</td>\n",
       "      <td>12000000</td>\n",
       "      <td>Fantastic Voyage</td>\n",
       "      <td>Stephen Boyd|Raquel Welch|Edmond O'Brien|Donal...</td>\n",
       "      <td>submarine|coma|claustrophobia|wound|laser</td>\n",
       "      <td>100</td>\n",
       "      <td>Adventure|Science Fiction</td>\n",
       "      <td>8/24/66</td>\n",
       "      <td>42</td>\n",
       "      <td>6.7</td>\n",
       "      <td>1966</td>\n",
       "    </tr>\n",
       "  </tbody>\n",
       "</table>\n",
       "</div>"
      ],
      "text/plain": [
       "       popularity    budget   revenue                   original_title  \\\n",
       "10822    0.670274   7500000  33736689  Who's Afraid of Virginia Woolf?   \n",
       "10828    0.402730   3000000  13000000                     Torn Curtain   \n",
       "10829    0.395668   4653000   6000000                        El Dorado   \n",
       "10835    0.299911  12000000  20000000                 The Sand Pebbles   \n",
       "10848    0.207257   5115000  12000000                 Fantastic Voyage   \n",
       "\n",
       "                                                    cast  \\\n",
       "10822  Elizabeth Taylor|Richard Burton|George Segal|S...   \n",
       "10828  Paul Newman|Julie Andrews|Lila Kedrova|HansjÃ¶...   \n",
       "10829  John Wayne|Robert Mitchum|James Caan|Charlene ...   \n",
       "10835  Steve McQueen|Richard Attenborough|Richard Cre...   \n",
       "10848  Stephen Boyd|Raquel Welch|Edmond O'Brien|Donal...   \n",
       "\n",
       "                                            keywords  runtime  \\\n",
       "10822  alcohol|adultery|professor|married couple|son      131   \n",
       "10828                          cold war|east germany      128   \n",
       "10829          sheriff|ranch|liquor|settler|revolver      120   \n",
       "10835        missionary|china|us navy|chinese|battle      182   \n",
       "10848      submarine|coma|claustrophobia|wound|laser      100   \n",
       "\n",
       "                                   genres release_date  vote_count  \\\n",
       "10822                               Drama      6/21/66          74   \n",
       "10828                    Mystery|Thriller      7/13/66          46   \n",
       "10829                      Action|Western     12/17/66          36   \n",
       "10835  Action|Adventure|Drama|War|Romance     12/20/66          28   \n",
       "10848           Adventure|Science Fiction      8/24/66          42   \n",
       "\n",
       "       vote_average  release_year  \n",
       "10822           7.5          1966  \n",
       "10828           6.3          1966  \n",
       "10829           6.9          1966  \n",
       "10835           7.0          1966  \n",
       "10848           6.7          1966  "
      ]
     },
     "execution_count": 23,
     "metadata": {},
     "output_type": "execute_result"
    }
   ],
   "source": [
    "# Got the last few rows to make sure the 0 values are gone\n",
    "df.tail()"
   ]
  },
  {
   "cell_type": "markdown",
   "metadata": {
    "id": "ykVMhQsgc26P"
   },
   "source": [
    "<a id=\"eda\"></a>\n",
    "# Exploratory Data Analysis\n",
    "\n",
    "\n",
    "### Research Question 1 (Is there a relation between movie popularity and budget spent?)"
   ]
  },
  {
   "cell_type": "markdown",
   "metadata": {
    "id": "hEofVyfPc26Q"
   },
   "source": [
    "Below i got the different histograms in my dataset to see the filtered data visualised"
   ]
  },
  {
   "cell_type": "code",
   "execution_count": 24,
   "metadata": {
    "colab": {
     "base_uri": "https://localhost:8080/",
     "height": 727
    },
    "id": "7c0ciQRCc26Q",
    "outputId": "31c6200c-355d-459e-f115-88ae90e21f31"
   },
   "outputs": [
    {
     "data": {
      "image/png": "[encoded data removed]",
      "text/plain": [
       "<matplotlib.figure.Figure at 0x7f7fc0b75d68>"
      ]
     },
     "metadata": {
      "needs_background": "light"
     },
     "output_type": "display_data"
    }
   ],
   "source": [
    "# Histograms were made for the cleaned data set\n",
    "df.hist(figsize=(14,8));"
   ]
  },
  {
   "cell_type": "markdown",
   "metadata": {
    "id": "htDO4pcsc26R"
   },
   "source": [
    "In the cell below i got the average of the budget spent on movies."
   ]
  },
  {
   "cell_type": "code",
   "execution_count": 25,
   "metadata": {
    "colab": {
     "base_uri": "https://localhost:8080/"
    },
    "id": "2KUT4Jogc26R",
    "outputId": "b036de4d-b983-40b6-bb9f-a34fa96cb960"
   },
   "outputs": [
    {
     "data": {
      "text/plain": [
       "37796705.3812601"
      ]
     },
     "execution_count": 25,
     "metadata": {},
     "output_type": "execute_result"
    }
   ],
   "source": [
    "# i made a variable 'x' and put a function inside it to get the average of the budget spent on movies.\n",
    "x = float(df['budget'].mean())\n",
    "x"
   ]
  },
  {
   "cell_type": "markdown",
   "metadata": {
    "id": "7F1GTf3Nc26S"
   },
   "source": [
    "In the following cells i made 2 variables, the h_budget is movies that has a higher or equal to the average amount spent and the l_budget are movies with below average of budget spent on movie production. I did this to see if the movies' popularity differs on movies with high budgets compared to lower budget movies."
   ]
  },
  {
   "cell_type": "code",
   "execution_count": 26,
   "metadata": {
    "id": "gS7JLEMYc26T"
   },
   "outputs": [],
   "source": [
    "# I made 2 small dataframes in the cell below, and i assigned 2 variables for the higher than average budget movies (h_budget) and the lower than average budget movies (l_budget)\n",
    "h_budget = df.query(\"budget >= 37796705.3812601\")\n",
    "l_budget = df.query('budget < 37796705.3812601')"
   ]
  },
  {
   "cell_type": "markdown",
   "metadata": {
    "id": "pMZJgIB_A1eY"
   },
   "source": [
    "In the cell below i made a variable 'y' and put in it a function to get the average popularity of movies with budget spent on it is higher than the average budget spent "
   ]
  },
  {
   "cell_type": "code",
   "execution_count": 27,
   "metadata": {
    "id": "zVKK72RPc26U"
   },
   "outputs": [],
   "source": [
    "# I put the average popularity in the higher budget movies in variable 'y'\n",
    "y = h_budget.mean().popularity"
   ]
  },
  {
   "cell_type": "code",
   "execution_count": 28,
   "metadata": {
    "colab": {
     "base_uri": "https://localhost:8080/"
    },
    "id": "EEuwM1wVc26U",
    "outputId": "0b3fdd5f-c376-4e64-85cb-b31f5ecba410"
   },
   "outputs": [
    {
     "data": {
      "text/plain": [
       "1.8285990174326463"
      ]
     },
     "execution_count": 28,
     "metadata": {},
     "output_type": "execute_result"
    }
   ],
   "source": [
    "# the value of variable 'y' is printed out\n",
    "y"
   ]
  },
  {
   "cell_type": "markdown",
   "metadata": {
    "id": "nMSQ-41DCKgj"
   },
   "source": [
    "In the cell below i made a variable 'l' and put in it a function to get the average popularity of movies with budget spent on it is lower than the average budget spent "
   ]
  },
  {
   "cell_type": "code",
   "execution_count": 29,
   "metadata": {
    "id": "9ofYhy_ac26V"
   },
   "outputs": [],
   "source": [
    "# I put the value of the average popularity in movies with lower than average budget spent inside variable 'l'\n",
    "l = l_budget.mean().popularity"
   ]
  },
  {
   "cell_type": "code",
   "execution_count": 30,
   "metadata": {
    "colab": {
     "base_uri": "https://localhost:8080/"
    },
    "id": "JBAiOXxBc26V",
    "outputId": "8731749c-7825-4c95-f7b8-52ee92b3d44b"
   },
   "outputs": [
    {
     "data": {
      "text/plain": [
       "0.9013266349918432"
      ]
     },
     "execution_count": 30,
     "metadata": {},
     "output_type": "execute_result"
    }
   ],
   "source": [
    "# the value of variable 'l' is printed out\n",
    "l"
   ]
  },
  {
   "cell_type": "markdown",
   "metadata": {
    "id": "_FCFJsgDc26W"
   },
   "source": [
    "Below a scatter plot was made to see if there is a correlation between budget spent and movie popularity. From this scatter graph we can see that there is a positive correlation when comparing these two data columns, therefore movies with a higher budget spent tend to be more popular."
   ]
  },
  {
   "cell_type": "code",
   "execution_count": 31,
   "metadata": {
    "colab": {
     "base_uri": "https://localhost:8080/",
     "height": 295
    },
    "id": "WnSF4TBjc26W",
    "outputId": "e88adc72-b8b0-44dc-df04-650c4faa296f"
   },
   "outputs": [
    {
     "data": {
      "image/png": "[encoded data removed]",
      "text/plain": [
       "<matplotlib.figure.Figure at 0x7f7fc009a7b8>"
      ]
     },
     "metadata": {
      "needs_background": "light"
     },
     "output_type": "display_data"
    }
   ],
   "source": [
    "# a scatter plot is made to check if there is a link between budget spent on a movie and it's popularity\n",
    "df.plot(x='budget', y='popularity', title='Comparing movie popularity and budget spent', kind='scatter');"
   ]
  },
  {
   "cell_type": "markdown",
   "metadata": {
    "id": "5on4t1_Dc26X"
   },
   "source": [
    "### Research Question 2  (Is there a relation between movie runtime and popularity?)"
   ]
  },
  {
   "cell_type": "markdown",
   "metadata": {
    "id": "T4Ja1urLc26X"
   },
   "source": [
    "First i started working on finding the answer to the second question by getting the average of movie runtime in my dataset"
   ]
  },
  {
   "cell_type": "code",
   "execution_count": 32,
   "metadata": {
    "colab": {
     "base_uri": "https://localhost:8080/"
    },
    "id": "LJDxtJ4Cc26Y",
    "outputId": "d22a7aa9-dd87-4123-c567-8ab379ada130"
   },
   "outputs": [
    {
     "data": {
      "text/plain": [
       "109.44749596122779"
      ]
     },
     "execution_count": 32,
     "metadata": {},
     "output_type": "execute_result"
    }
   ],
   "source": [
    "# i put the value of average movie runtime inside the variable c\n",
    "c = df['runtime'].mean()\n",
    "c"
   ]
  },
  {
   "cell_type": "markdown",
   "metadata": {
    "id": "j7j_rozgc26Y"
   },
   "source": [
    "In the following cells i made 2 variables, the h_runt are movies that have a higher or equal to the average movie runtime and the l_runtime are movies with below average of movie runtime. I did this to see if the length of a movie affects it's popularity."
   ]
  },
  {
   "cell_type": "code",
   "execution_count": 33,
   "metadata": {
    "id": "gitGhHUfc26Z"
   },
   "outputs": [],
   "source": [
    "# I got the higher than average runtime in between 105 minutes and 200 minutes and put it in the variable 'h_runt'\n",
    "h_runt = df.query('105 <= runtime <= 200')\n",
    "# I got the lower than average runtime in between 70 and 200 and put it in the variable 'l_runt'\n",
    "l_runt = df.query('70 <= runtime <= 200')"
   ]
  },
  {
   "cell_type": "code",
   "execution_count": 34,
   "metadata": {
    "colab": {
     "base_uri": "https://localhost:8080/"
    },
    "id": "25i0RGdxc26Z",
    "outputId": "6ce9fdcf-746e-43fc-a106-cfefb476cc05"
   },
   "outputs": [
    {
     "data": {
      "text/plain": [
       "1.4488655373210633"
      ]
     },
     "execution_count": 34,
     "metadata": {},
     "output_type": "execute_result"
    }
   ],
   "source": [
    "# I got the popularity of the movies with higher than average runtime\n",
    "h_runt.mean().popularity"
   ]
  },
  {
   "cell_type": "code",
   "execution_count": 35,
   "metadata": {
    "colab": {
     "base_uri": "https://localhost:8080/"
    },
    "id": "BheiBM0dc26a",
    "outputId": "636e50de-cf34-413a-fcf7-7aba0e1e2432"
   },
   "outputs": [
    {
     "data": {
      "text/plain": [
       "1.2165590891891889"
      ]
     },
     "execution_count": 35,
     "metadata": {},
     "output_type": "execute_result"
    }
   ],
   "source": [
    "# I got the popularity of the movies with lower than average runtime\n",
    "l_runt.mean().popularity"
   ]
  },
  {
   "cell_type": "markdown",
   "metadata": {
    "id": "QtjnSRxac26e"
   },
   "source": [
    "Below 2 scatter plots were made to see if there is a correlation between movie runtime and popularity. From the 1st graph using the lower than average runtime we can see that as movie runtime increase then so does popularity. Then a following scatter plot using higher than average runtime, here we can see a continuing increase in popularity up to a certain extent. So we can conclude that there is a positive correlation when comparing these two data columns, therefore movies with a higher runtime, to a certain extent, tend to be more popular."
   ]
  },
  {
   "cell_type": "code",
   "execution_count": 36,
   "metadata": {
    "colab": {
     "base_uri": "https://localhost:8080/",
     "height": 295
    },
    "id": "04kF8m3Xc26f",
    "outputId": "f656d88e-7151-4f35-ff98-c446bc6d9b2b"
   },
   "outputs": [
    {
     "data": {
      "image/png": "[encoded data removed]",
      "text/plain": [
       "<matplotlib.figure.Figure at 0x7f7fc0060518>"
      ]
     },
     "metadata": {
      "needs_background": "light"
     },
     "output_type": "display_data"
    }
   ],
   "source": [
    "# A scatter plot was made to check the relation between a movie's runtime when it's below average and it's popularity\n",
    "l_runt.plot(x='runtime', y='popularity', title='Comparing movie popularity and runtime', kind='scatter');"
   ]
  },
  {
   "cell_type": "code",
   "execution_count": 37,
   "metadata": {
    "colab": {
     "base_uri": "https://localhost:8080/",
     "height": 295
    },
    "id": "GrmwHF3Oc26f",
    "outputId": "74214020-25e3-4674-ed34-2e3aad0e4e0e"
   },
   "outputs": [
    {
     "data": {
      "image/png": "[encoded data removed]",
      "text/plain": [
       "<matplotlib.figure.Figure at 0x7f7fc002a748>"
      ]
     },
     "metadata": {
      "needs_background": "light"
     },
     "output_type": "display_data"
    }
   ],
   "source": [
    "# A scatter plot was made to check the relation between a movie's runtime when it's higher than average and it's popularity\n",
    "h_runt.plot(x='runtime', y='popularity', title='Comparing movie popularity and runtime', kind='scatter');"
   ]
  },
  {
   "cell_type": "markdown",
   "metadata": {
    "id": "SKop3nmTFc7T"
   },
   "source": [
    "From the 2 scatter plotes made in the cells above we can conclude that as movie's runtime increase to about 200 minutes maximum then so does it's popularity increase"
   ]
  },
  {
   "cell_type": "markdown",
   "metadata": {
    "id": "XSECYkehc26g"
   },
   "source": [
    "<a id=\"conclusions\"></a>\n",
    "# Conclusion"
   ]
  },
  {
   "cell_type": "markdown",
   "metadata": {
    "id": "lG0leCy1c26g"
   },
   "source": [
    "From the brief analysis performed we saw that several factors affect a movie's popularity. I attempted to analyze some of these factors and see if there is in fact a relation. First the data was cleaned and trimmed, and unecessary column values were removed."
   ]
  },
  {
   "cell_type": "markdown",
   "metadata": {
    "id": "ky4kCs7-c26h"
   },
   "source": [
    "### Data limitations\n",
    "1. Many NAN values were removed, instead of finding their values from online sources\n",
    "\n",
    "2. Movie cunsumption nowadays is vastly different from when this dataset was made. Nowadays there  are many streaming websites for movies, such as netflix for example, where some people wait for movies to be placed on that site to watch instead of paying for movie tickets and leaving their home. So maybe the data can improved upon by including movies watched on those websites.\n",
    "\n",
    "3. Many of the columns present originally in the dataset were irrelevant to our analysis "
   ]
  },
  {
   "cell_type": "markdown",
   "metadata": {
    "id": "-GH-jknRc26h"
   },
   "source": [
    "### Insights from our cleaned data"
   ]
  },
  {
   "cell_type": "markdown",
   "metadata": {
    "id": "ibEvbQB1c26h"
   },
   "source": [
    "1. amount of money spent on a movie's production does make a difference on it's popularity.\n",
    "2. movies with a higher than average runtime tends to be more popular"
   ]
  },
  {
   "cell_type": "code",
   "execution_count": 38,
   "metadata": {
    "colab": {
     "base_uri": "https://localhost:8080/"
    },
    "id": "OWLImxgfc26i",
    "outputId": "f04b3fb2-aa98-482b-d5a4-292337b97529"
   },
   "outputs": [
    {
     "data": {
      "text/plain": [
       "0"
      ]
     },
     "execution_count": 38,
     "metadata": {},
     "output_type": "execute_result"
    }
   ],
   "source": [
    "from subprocess import call\n",
    "call(['python', '-m', 'nbconvert', 'Investigate_the_TMDb_movie_data_set.ipynb'])"
   ]
  }
 ],
 "metadata": {
  "accelerator": "GPU",
  "colab": {
   "name": "Investigate_the_TMDb_movie_data_set.ipynb",
   "provenance": []
  },
  "gpuClass": "standard",
  "kernelspec": {
   "display_name": "Python 3",
   "language": "python",
   "name": "python3"
  },
  "language_info": {
   "codemirror_mode": {
    "name": "ipython",
    "version": 3
   },
   "file_extension": ".py",
   "mimetype": "text/x-python",
   "name": "python",
   "nbconvert_exporter": "python",
   "pygments_lexer": "ipython3",
   "version": "3.6.3"
  }
 },
 "nbformat": 4,
 "nbformat_minor": 1
}
